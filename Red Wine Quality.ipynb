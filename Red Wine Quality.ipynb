{
 "cells": [
  {
   "cell_type": "markdown",
   "id": "0b119c2e",
   "metadata": {},
   "source": [
    "# <a id='toc1_'></a>[<center> Red Wine Quality](#toc0_)"
   ]
  },
  {
   "cell_type": "markdown",
   "id": "2a7d6620",
   "metadata": {},
   "source": [
    "**Table of contents**<a id='toc0_'></a>     \n",
    "  - [Introduction:](#toc1_1_)    \n",
    "  - [Prerequisite](#toc1_2_)    \n",
    "  - [Package installing](#toc1_3_)    \n",
    "  - [Exploratory Data Analysis](#toc1_4_)    \n",
    "    - [Loading the data and inspecting the dataset](#toc1_4_1_)    \n",
    "    - [Univarite analysis](#toc1_4_2_)    \n",
    "    - [Bivariate analysis](#toc1_4_3_)    \n",
    "  - [Statistical inference](#toc1_5_)    \n",
    "    - ['Alcohol'](#toc1_5_1_)    \n",
    "    - ['quality'/'grade'](#toc1_5_2_)    \n",
    "  - [Training and Fitting Machine Learning Model](#toc1_6_)    \n",
    "    - ['Alcohol'](#toc1_6_1_)    \n",
    "    - ['grade'](#toc1_6_2_)    \n",
    "  - [Google Looker 3 graphs:](#toc1_7_)    \n",
    "  - [Conclusion and Limitation](#toc1_8_)    \n",
    "\n",
    "<!-- vscode-jupyter-toc-config\n",
    "\tnumbering=false\n",
    "\tanchor=true\n",
    "\tflat=false\n",
    "\tminLevel=1\n",
    "\tmaxLevel=6\n",
    "\t/vscode-jupyter-toc-config -->\n",
    "<!-- THIS CELL WILL BE REPLACED ON TOC UPDATE. DO NOT WRITE YOUR TEXT IN THIS CELL -->"
   ]
  },
  {
   "cell_type": "markdown",
   "id": "1dea559f",
   "metadata": {},
   "source": [
    "## <a id='toc1_1_'></a>[Introduction:](#toc0_)\n",
    "- This project would try to aim for verbal presenting in around 15' to 20'\n",
    "- It will attempt to fullfil the project requirement as follows:\n",
    "1. Load the data using Pandas\n",
    "2. Perform exploratory data analysis. This should include creating statistical summaries and charts, testing for anomalies, checking for correlations and other relations between variables, and other EDA elements.\n",
    "3. Perform statistical inference. This should include defining the target population, forming multiple statistical hypotheses and constructing confidence intervals, setting the significance levels, conducting z or t-tests for these hypotheses.\n",
    "4. Apply linear machine learning models to predict the quality column using the other 11 features. This should include the analysis of model selection using the statistical significance of each feature, R-squared, at least one popular information criteria, and other methods.\n",
    "5. Apply linear machine learning models to predict the alcohol column using the other 11 features. This should include the analysis of model selection using the statistical significance of each feature, R-squared, at least one popular information criteria, and other methods.\n",
    "6. Create a Google Data Studio dashboard with at least three different types of charts.\n",
    "7. Provide clear explanations in your notebook. Your explanations should inform the reader what you are trying to achieve, what results did you get, and what these results mean.\n",
    "8. Provide suggestions about how your analysis can be improved.\n",
    "- This dataset named \"Red Wine Quality\" is from [Kaggle](https://www.kaggle.com/datasets/uciml/red-wine-quality-cortez-et-al-2009)\n",
    "- Due to the requirement mentioned above, the analysis of this project would be centred around 2 features: \"quality\" and  \"alcohol\""
   ]
  },
  {
   "cell_type": "markdown",
   "id": "1033215d",
   "metadata": {},
   "source": [
    "## <a id='toc1_2_'></a>[Prerequisite](#toc0_)"
   ]
  },
  {
   "cell_type": "markdown",
   "id": "e806d931",
   "metadata": {},
   "source": [
    "At this step of learning with Turing College, machine learning has just been briefly intruduced. Hence, there would be a shallow level of machine learning application in this project. "
   ]
  },
  {
   "cell_type": "markdown",
   "id": "69516d0c",
   "metadata": {},
   "source": [
    "## <a id='toc1_3_'></a>[Package installing](#toc0_)"
   ]
  },
  {
   "cell_type": "code",
   "execution_count": 1,
   "id": "ebc8b952",
   "metadata": {},
   "outputs": [],
   "source": [
    "# For PEP8 checking\n",
    "%load_ext pycodestyle_magic\n",
    "%pycodestyle_on"
   ]
  },
  {
   "cell_type": "code",
   "execution_count": 2,
   "id": "3ea52bca",
   "metadata": {},
   "outputs": [],
   "source": [
    "import numpy as np\n",
    "import pandas as pd\n",
    "import matplotlib.pyplot as plt\n",
    "import seaborn as sns\n",
    "import plotly.express as px  # for interactive visulisation\n",
    "import scipy.stats as stats\n",
    "from sklearn.model_selection import train_test_split\n",
    "from sklearn.linear_model import LinearRegression, LogisticRegression\n",
    "from sklearn.metrics import (mean_squared_error, mean_absolute_error,\n",
    "                             r2_score, accuracy_score, classification_report,\n",
    "                             confusion_matrix)\n",
    "from sklearn.tree import DecisionTreeClassifier\n",
    "from sklearn.tree import plot_tree"
   ]
  },
  {
   "cell_type": "markdown",
   "id": "4a7384ef",
   "metadata": {},
   "source": [
    "## <a id='toc1_4_'></a>[Exploratory Data Analysis](#toc0_)"
   ]
  },
  {
   "cell_type": "markdown",
   "id": "1727cbdb",
   "metadata": {},
   "source": [
    "### <a id='toc1_4_1_'></a>[Loading the data and inspecting the dataset](#toc0_)"
   ]
  },
  {
   "cell_type": "code",
   "execution_count": 3,
   "id": "087026eb",
   "metadata": {},
   "outputs": [
    {
     "data": {
      "text/html": [
       "<div>\n",
       "<style scoped>\n",
       "    .dataframe tbody tr th:only-of-type {\n",
       "        vertical-align: middle;\n",
       "    }\n",
       "\n",
       "    .dataframe tbody tr th {\n",
       "        vertical-align: top;\n",
       "    }\n",
       "\n",
       "    .dataframe thead th {\n",
       "        text-align: right;\n",
       "    }\n",
       "</style>\n",
       "<table border=\"1\" class=\"dataframe\">\n",
       "  <thead>\n",
       "    <tr style=\"text-align: right;\">\n",
       "      <th></th>\n",
       "      <th>fixed acidity</th>\n",
       "      <th>volatile acidity</th>\n",
       "      <th>citric acid</th>\n",
       "      <th>residual sugar</th>\n",
       "      <th>chlorides</th>\n",
       "      <th>free sulfur dioxide</th>\n",
       "      <th>total sulfur dioxide</th>\n",
       "      <th>density</th>\n",
       "      <th>pH</th>\n",
       "      <th>sulphates</th>\n",
       "      <th>alcohol</th>\n",
       "      <th>quality</th>\n",
       "    </tr>\n",
       "  </thead>\n",
       "  <tbody>\n",
       "    <tr>\n",
       "      <th>0</th>\n",
       "      <td>7.4</td>\n",
       "      <td>0.70</td>\n",
       "      <td>0.00</td>\n",
       "      <td>1.9</td>\n",
       "      <td>0.076</td>\n",
       "      <td>11.0</td>\n",
       "      <td>34.0</td>\n",
       "      <td>0.9978</td>\n",
       "      <td>3.51</td>\n",
       "      <td>0.56</td>\n",
       "      <td>9.4</td>\n",
       "      <td>5</td>\n",
       "    </tr>\n",
       "    <tr>\n",
       "      <th>1</th>\n",
       "      <td>7.8</td>\n",
       "      <td>0.88</td>\n",
       "      <td>0.00</td>\n",
       "      <td>2.6</td>\n",
       "      <td>0.098</td>\n",
       "      <td>25.0</td>\n",
       "      <td>67.0</td>\n",
       "      <td>0.9968</td>\n",
       "      <td>3.20</td>\n",
       "      <td>0.68</td>\n",
       "      <td>9.8</td>\n",
       "      <td>5</td>\n",
       "    </tr>\n",
       "    <tr>\n",
       "      <th>2</th>\n",
       "      <td>7.8</td>\n",
       "      <td>0.76</td>\n",
       "      <td>0.04</td>\n",
       "      <td>2.3</td>\n",
       "      <td>0.092</td>\n",
       "      <td>15.0</td>\n",
       "      <td>54.0</td>\n",
       "      <td>0.9970</td>\n",
       "      <td>3.26</td>\n",
       "      <td>0.65</td>\n",
       "      <td>9.8</td>\n",
       "      <td>5</td>\n",
       "    </tr>\n",
       "    <tr>\n",
       "      <th>3</th>\n",
       "      <td>11.2</td>\n",
       "      <td>0.28</td>\n",
       "      <td>0.56</td>\n",
       "      <td>1.9</td>\n",
       "      <td>0.075</td>\n",
       "      <td>17.0</td>\n",
       "      <td>60.0</td>\n",
       "      <td>0.9980</td>\n",
       "      <td>3.16</td>\n",
       "      <td>0.58</td>\n",
       "      <td>9.8</td>\n",
       "      <td>6</td>\n",
       "    </tr>\n",
       "    <tr>\n",
       "      <th>4</th>\n",
       "      <td>7.4</td>\n",
       "      <td>0.70</td>\n",
       "      <td>0.00</td>\n",
       "      <td>1.9</td>\n",
       "      <td>0.076</td>\n",
       "      <td>11.0</td>\n",
       "      <td>34.0</td>\n",
       "      <td>0.9978</td>\n",
       "      <td>3.51</td>\n",
       "      <td>0.56</td>\n",
       "      <td>9.4</td>\n",
       "      <td>5</td>\n",
       "    </tr>\n",
       "  </tbody>\n",
       "</table>\n",
       "</div>"
      ],
      "text/plain": [
       "   fixed acidity  volatile acidity  citric acid  residual sugar  chlorides  \\\n",
       "0            7.4              0.70         0.00             1.9      0.076   \n",
       "1            7.8              0.88         0.00             2.6      0.098   \n",
       "2            7.8              0.76         0.04             2.3      0.092   \n",
       "3           11.2              0.28         0.56             1.9      0.075   \n",
       "4            7.4              0.70         0.00             1.9      0.076   \n",
       "\n",
       "   free sulfur dioxide  total sulfur dioxide  density    pH  sulphates  \\\n",
       "0                 11.0                  34.0   0.9978  3.51       0.56   \n",
       "1                 25.0                  67.0   0.9968  3.20       0.68   \n",
       "2                 15.0                  54.0   0.9970  3.26       0.65   \n",
       "3                 17.0                  60.0   0.9980  3.16       0.58   \n",
       "4                 11.0                  34.0   0.9978  3.51       0.56   \n",
       "\n",
       "   alcohol  quality  \n",
       "0      9.4        5  \n",
       "1      9.8        5  \n",
       "2      9.8        5  \n",
       "3      9.8        6  \n",
       "4      9.4        5  "
      ]
     },
     "execution_count": 3,
     "metadata": {},
     "output_type": "execute_result"
    }
   ],
   "source": [
    "df = pd.read_csv('winequality-red.csv')\n",
    "df.head()"
   ]
  },
  {
   "cell_type": "code",
   "execution_count": 4,
   "id": "e7cf9567",
   "metadata": {},
   "outputs": [
    {
     "data": {
      "text/html": [
       "<div>\n",
       "<style scoped>\n",
       "    .dataframe tbody tr th:only-of-type {\n",
       "        vertical-align: middle;\n",
       "    }\n",
       "\n",
       "    .dataframe tbody tr th {\n",
       "        vertical-align: top;\n",
       "    }\n",
       "\n",
       "    .dataframe thead th {\n",
       "        text-align: right;\n",
       "    }\n",
       "</style>\n",
       "<table border=\"1\" class=\"dataframe\">\n",
       "  <thead>\n",
       "    <tr style=\"text-align: right;\">\n",
       "      <th></th>\n",
       "      <th>fixed acidity</th>\n",
       "      <th>volatile acidity</th>\n",
       "      <th>citric acid</th>\n",
       "      <th>residual sugar</th>\n",
       "      <th>chlorides</th>\n",
       "      <th>free sulfur dioxide</th>\n",
       "      <th>total sulfur dioxide</th>\n",
       "      <th>density</th>\n",
       "      <th>pH</th>\n",
       "      <th>sulphates</th>\n",
       "      <th>alcohol</th>\n",
       "      <th>quality</th>\n",
       "    </tr>\n",
       "  </thead>\n",
       "  <tbody>\n",
       "    <tr>\n",
       "      <th>1594</th>\n",
       "      <td>6.2</td>\n",
       "      <td>0.600</td>\n",
       "      <td>0.08</td>\n",
       "      <td>2.0</td>\n",
       "      <td>0.090</td>\n",
       "      <td>32.0</td>\n",
       "      <td>44.0</td>\n",
       "      <td>0.99490</td>\n",
       "      <td>3.45</td>\n",
       "      <td>0.58</td>\n",
       "      <td>10.5</td>\n",
       "      <td>5</td>\n",
       "    </tr>\n",
       "    <tr>\n",
       "      <th>1595</th>\n",
       "      <td>5.9</td>\n",
       "      <td>0.550</td>\n",
       "      <td>0.10</td>\n",
       "      <td>2.2</td>\n",
       "      <td>0.062</td>\n",
       "      <td>39.0</td>\n",
       "      <td>51.0</td>\n",
       "      <td>0.99512</td>\n",
       "      <td>3.52</td>\n",
       "      <td>0.76</td>\n",
       "      <td>11.2</td>\n",
       "      <td>6</td>\n",
       "    </tr>\n",
       "    <tr>\n",
       "      <th>1596</th>\n",
       "      <td>6.3</td>\n",
       "      <td>0.510</td>\n",
       "      <td>0.13</td>\n",
       "      <td>2.3</td>\n",
       "      <td>0.076</td>\n",
       "      <td>29.0</td>\n",
       "      <td>40.0</td>\n",
       "      <td>0.99574</td>\n",
       "      <td>3.42</td>\n",
       "      <td>0.75</td>\n",
       "      <td>11.0</td>\n",
       "      <td>6</td>\n",
       "    </tr>\n",
       "    <tr>\n",
       "      <th>1597</th>\n",
       "      <td>5.9</td>\n",
       "      <td>0.645</td>\n",
       "      <td>0.12</td>\n",
       "      <td>2.0</td>\n",
       "      <td>0.075</td>\n",
       "      <td>32.0</td>\n",
       "      <td>44.0</td>\n",
       "      <td>0.99547</td>\n",
       "      <td>3.57</td>\n",
       "      <td>0.71</td>\n",
       "      <td>10.2</td>\n",
       "      <td>5</td>\n",
       "    </tr>\n",
       "    <tr>\n",
       "      <th>1598</th>\n",
       "      <td>6.0</td>\n",
       "      <td>0.310</td>\n",
       "      <td>0.47</td>\n",
       "      <td>3.6</td>\n",
       "      <td>0.067</td>\n",
       "      <td>18.0</td>\n",
       "      <td>42.0</td>\n",
       "      <td>0.99549</td>\n",
       "      <td>3.39</td>\n",
       "      <td>0.66</td>\n",
       "      <td>11.0</td>\n",
       "      <td>6</td>\n",
       "    </tr>\n",
       "  </tbody>\n",
       "</table>\n",
       "</div>"
      ],
      "text/plain": [
       "      fixed acidity  volatile acidity  citric acid  residual sugar  chlorides  \\\n",
       "1594            6.2             0.600         0.08             2.0      0.090   \n",
       "1595            5.9             0.550         0.10             2.2      0.062   \n",
       "1596            6.3             0.510         0.13             2.3      0.076   \n",
       "1597            5.9             0.645         0.12             2.0      0.075   \n",
       "1598            6.0             0.310         0.47             3.6      0.067   \n",
       "\n",
       "      free sulfur dioxide  total sulfur dioxide  density    pH  sulphates  \\\n",
       "1594                 32.0                  44.0  0.99490  3.45       0.58   \n",
       "1595                 39.0                  51.0  0.99512  3.52       0.76   \n",
       "1596                 29.0                  40.0  0.99574  3.42       0.75   \n",
       "1597                 32.0                  44.0  0.99547  3.57       0.71   \n",
       "1598                 18.0                  42.0  0.99549  3.39       0.66   \n",
       "\n",
       "      alcohol  quality  \n",
       "1594     10.5        5  \n",
       "1595     11.2        6  \n",
       "1596     11.0        6  \n",
       "1597     10.2        5  \n",
       "1598     11.0        6  "
      ]
     },
     "execution_count": 4,
     "metadata": {},
     "output_type": "execute_result"
    }
   ],
   "source": [
    "df.tail()"
   ]
  },
  {
   "cell_type": "code",
   "execution_count": 5,
   "id": "43e10174",
   "metadata": {},
   "outputs": [
    {
     "data": {
      "text/plain": [
       "(1599, 12)"
      ]
     },
     "execution_count": 5,
     "metadata": {},
     "output_type": "execute_result"
    }
   ],
   "source": [
    "df.shape"
   ]
  },
  {
   "cell_type": "markdown",
   "id": "22f6dd99",
   "metadata": {},
   "source": [
    "The dataset has 1598 observations and 12 features"
   ]
  },
  {
   "cell_type": "code",
   "execution_count": 6,
   "id": "676e9af2",
   "metadata": {},
   "outputs": [
    {
     "name": "stdout",
     "output_type": "stream",
     "text": [
      "<class 'pandas.core.frame.DataFrame'>\n",
      "RangeIndex: 1599 entries, 0 to 1598\n",
      "Data columns (total 12 columns):\n",
      " #   Column                Non-Null Count  Dtype  \n",
      "---  ------                --------------  -----  \n",
      " 0   fixed acidity         1599 non-null   float64\n",
      " 1   volatile acidity      1599 non-null   float64\n",
      " 2   citric acid           1599 non-null   float64\n",
      " 3   residual sugar        1599 non-null   float64\n",
      " 4   chlorides             1599 non-null   float64\n",
      " 5   free sulfur dioxide   1599 non-null   float64\n",
      " 6   total sulfur dioxide  1599 non-null   float64\n",
      " 7   density               1599 non-null   float64\n",
      " 8   pH                    1599 non-null   float64\n",
      " 9   sulphates             1599 non-null   float64\n",
      " 10  alcohol               1599 non-null   float64\n",
      " 11  quality               1599 non-null   int64  \n",
      "dtypes: float64(11), int64(1)\n",
      "memory usage: 150.0 KB\n"
     ]
    }
   ],
   "source": [
    "df.info(verbose=True)  # Full length report outcome"
   ]
  },
  {
   "cell_type": "markdown",
   "id": "c6741ba6",
   "metadata": {},
   "source": [
    "The collumn 'Non-Null Count' lets us know there is no null value or missing value, not need to use isna() method<br>\n",
    "Only 'quality' feature is descreet by looking at their Dtype"
   ]
  },
  {
   "cell_type": "code",
   "execution_count": 7,
   "id": "cfe8685c",
   "metadata": {},
   "outputs": [
    {
     "name": "stdout",
     "output_type": "stream",
     "text": [
      "Number of duplicate rows 240\n"
     ]
    }
   ],
   "source": [
    "num_duplicates = df.duplicated().sum()\n",
    "print(\"Number of duplicate rows\", num_duplicates)"
   ]
  },
  {
   "cell_type": "code",
   "execution_count": 8,
   "id": "a9d7283f",
   "metadata": {},
   "outputs": [
    {
     "name": "stdout",
     "output_type": "stream",
     "text": [
      "      fixed acidity  volatile acidity  citric acid  residual sugar  chlorides  \\\n",
      "0               7.4             0.700         0.00             1.9      0.076   \n",
      "4               7.4             0.700         0.00             1.9      0.076   \n",
      "9               7.5             0.500         0.36             6.1      0.071   \n",
      "11              7.5             0.500         0.36             6.1      0.071   \n",
      "22              7.9             0.430         0.21             1.6      0.106   \n",
      "...             ...               ...          ...             ...        ...   \n",
      "1567            7.2             0.695         0.13             2.0      0.076   \n",
      "1579            6.2             0.560         0.09             1.7      0.053   \n",
      "1581            6.2             0.560         0.09             1.7      0.053   \n",
      "1592            6.3             0.510         0.13             2.3      0.076   \n",
      "1596            6.3             0.510         0.13             2.3      0.076   \n",
      "\n",
      "      free sulfur dioxide  total sulfur dioxide  density    pH  sulphates  \\\n",
      "0                    11.0                  34.0  0.99780  3.51       0.56   \n",
      "4                    11.0                  34.0  0.99780  3.51       0.56   \n",
      "9                    17.0                 102.0  0.99780  3.35       0.80   \n",
      "11                   17.0                 102.0  0.99780  3.35       0.80   \n",
      "22                   10.0                  37.0  0.99660  3.17       0.91   \n",
      "...                   ...                   ...      ...   ...        ...   \n",
      "1567                 12.0                  20.0  0.99546  3.29       0.54   \n",
      "1579                 24.0                  32.0  0.99402  3.54       0.60   \n",
      "1581                 24.0                  32.0  0.99402  3.54       0.60   \n",
      "1592                 29.0                  40.0  0.99574  3.42       0.75   \n",
      "1596                 29.0                  40.0  0.99574  3.42       0.75   \n",
      "\n",
      "      alcohol  quality  \n",
      "0         9.4        5  \n",
      "4         9.4        5  \n",
      "9        10.5        5  \n",
      "11       10.5        5  \n",
      "22        9.5        5  \n",
      "...       ...      ...  \n",
      "1567     10.1        5  \n",
      "1579     11.3        5  \n",
      "1581     11.3        5  \n",
      "1592     11.0        6  \n",
      "1596     11.0        6  \n",
      "\n",
      "[460 rows x 12 columns]\n"
     ]
    }
   ],
   "source": [
    "# Take a brief look at duplicate rows\n",
    "duplicate_rows = df[df.duplicated(keep=False)]\n",
    "print(duplicate_rows)"
   ]
  },
  {
   "cell_type": "markdown",
   "id": "e2a16d27",
   "metadata": {},
   "source": [
    "Many rows have the same values for all columns, yet, there is not enough evidence to say if they are <br>\n",
    "duplicated, or just the same values. Without ID column, they could be, or could not be considered duplicate. <br>\n",
    "In this analysis, I would choose to consider those as duplicates"
   ]
  },
  {
   "cell_type": "code",
   "execution_count": 9,
   "id": "2aededa1",
   "metadata": {},
   "outputs": [
    {
     "name": "stdout",
     "output_type": "stream",
     "text": [
      "Check if any duplicate left as those following result:\n",
      "fixed acidity           0\n",
      "volatile acidity        0\n",
      "citric acid             0\n",
      "residual sugar          0\n",
      "chlorides               0\n",
      "free sulfur dioxide     0\n",
      "total sulfur dioxide    0\n",
      "density                 0\n",
      "pH                      0\n",
      "sulphates               0\n",
      "alcohol                 0\n",
      "quality                 0\n",
      "dtype: int64\n"
     ]
    }
   ],
   "source": [
    "# Removing duplicate records:\n",
    "df.drop_duplicates(inplace=True)\n",
    "print(\"Check if any duplicate left as those following result:\")\n",
    "print(df.isna().sum())"
   ]
  },
  {
   "cell_type": "code",
   "execution_count": 10,
   "id": "53a1fa04",
   "metadata": {},
   "outputs": [
    {
     "data": {
      "text/html": [
       "<style type=\"text/css\">\n",
       "</style>\n",
       "<table id=\"T_c1d85\">\n",
       "  <thead>\n",
       "    <tr>\n",
       "      <th class=\"blank level0\" >&nbsp;</th>\n",
       "      <th id=\"T_c1d85_level0_col0\" class=\"col_heading level0 col0\" >count</th>\n",
       "      <th id=\"T_c1d85_level0_col1\" class=\"col_heading level0 col1\" >mean</th>\n",
       "      <th id=\"T_c1d85_level0_col2\" class=\"col_heading level0 col2\" >std</th>\n",
       "      <th id=\"T_c1d85_level0_col3\" class=\"col_heading level0 col3\" >min</th>\n",
       "      <th id=\"T_c1d85_level0_col4\" class=\"col_heading level0 col4\" >25%</th>\n",
       "      <th id=\"T_c1d85_level0_col5\" class=\"col_heading level0 col5\" >50%</th>\n",
       "      <th id=\"T_c1d85_level0_col6\" class=\"col_heading level0 col6\" >75%</th>\n",
       "      <th id=\"T_c1d85_level0_col7\" class=\"col_heading level0 col7\" >max</th>\n",
       "    </tr>\n",
       "  </thead>\n",
       "  <tbody>\n",
       "    <tr>\n",
       "      <th id=\"T_c1d85_level0_row0\" class=\"row_heading level0 row0\" >fixed acidity</th>\n",
       "      <td id=\"T_c1d85_row0_col0\" class=\"data row0 col0\" >1359.000000</td>\n",
       "      <td id=\"T_c1d85_row0_col1\" class=\"data row0 col1\" >8.310596</td>\n",
       "      <td id=\"T_c1d85_row0_col2\" class=\"data row0 col2\" >1.736990</td>\n",
       "      <td id=\"T_c1d85_row0_col3\" class=\"data row0 col3\" >4.600000</td>\n",
       "      <td id=\"T_c1d85_row0_col4\" class=\"data row0 col4\" >7.100000</td>\n",
       "      <td id=\"T_c1d85_row0_col5\" class=\"data row0 col5\" >7.900000</td>\n",
       "      <td id=\"T_c1d85_row0_col6\" class=\"data row0 col6\" >9.200000</td>\n",
       "      <td id=\"T_c1d85_row0_col7\" class=\"data row0 col7\" >15.900000</td>\n",
       "    </tr>\n",
       "    <tr>\n",
       "      <th id=\"T_c1d85_level0_row1\" class=\"row_heading level0 row1\" >volatile acidity</th>\n",
       "      <td id=\"T_c1d85_row1_col0\" class=\"data row1 col0\" >1359.000000</td>\n",
       "      <td id=\"T_c1d85_row1_col1\" class=\"data row1 col1\" >0.529478</td>\n",
       "      <td id=\"T_c1d85_row1_col2\" class=\"data row1 col2\" >0.183031</td>\n",
       "      <td id=\"T_c1d85_row1_col3\" class=\"data row1 col3\" >0.120000</td>\n",
       "      <td id=\"T_c1d85_row1_col4\" class=\"data row1 col4\" >0.390000</td>\n",
       "      <td id=\"T_c1d85_row1_col5\" class=\"data row1 col5\" >0.520000</td>\n",
       "      <td id=\"T_c1d85_row1_col6\" class=\"data row1 col6\" >0.640000</td>\n",
       "      <td id=\"T_c1d85_row1_col7\" class=\"data row1 col7\" >1.580000</td>\n",
       "    </tr>\n",
       "    <tr>\n",
       "      <th id=\"T_c1d85_level0_row2\" class=\"row_heading level0 row2\" >citric acid</th>\n",
       "      <td id=\"T_c1d85_row2_col0\" class=\"data row2 col0\" >1359.000000</td>\n",
       "      <td id=\"T_c1d85_row2_col1\" class=\"data row2 col1\" >0.272333</td>\n",
       "      <td id=\"T_c1d85_row2_col2\" class=\"data row2 col2\" >0.195537</td>\n",
       "      <td id=\"T_c1d85_row2_col3\" class=\"data row2 col3\" >0.000000</td>\n",
       "      <td id=\"T_c1d85_row2_col4\" class=\"data row2 col4\" >0.090000</td>\n",
       "      <td id=\"T_c1d85_row2_col5\" class=\"data row2 col5\" >0.260000</td>\n",
       "      <td id=\"T_c1d85_row2_col6\" class=\"data row2 col6\" >0.430000</td>\n",
       "      <td id=\"T_c1d85_row2_col7\" class=\"data row2 col7\" >1.000000</td>\n",
       "    </tr>\n",
       "    <tr>\n",
       "      <th id=\"T_c1d85_level0_row3\" class=\"row_heading level0 row3\" >residual sugar</th>\n",
       "      <td id=\"T_c1d85_row3_col0\" class=\"data row3 col0\" >1359.000000</td>\n",
       "      <td id=\"T_c1d85_row3_col1\" class=\"data row3 col1\" >2.523400</td>\n",
       "      <td id=\"T_c1d85_row3_col2\" class=\"data row3 col2\" >1.352314</td>\n",
       "      <td id=\"T_c1d85_row3_col3\" class=\"data row3 col3\" >0.900000</td>\n",
       "      <td id=\"T_c1d85_row3_col4\" class=\"data row3 col4\" >1.900000</td>\n",
       "      <td id=\"T_c1d85_row3_col5\" class=\"data row3 col5\" >2.200000</td>\n",
       "      <td id=\"T_c1d85_row3_col6\" class=\"data row3 col6\" >2.600000</td>\n",
       "      <td id=\"T_c1d85_row3_col7\" class=\"data row3 col7\" >15.500000</td>\n",
       "    </tr>\n",
       "    <tr>\n",
       "      <th id=\"T_c1d85_level0_row4\" class=\"row_heading level0 row4\" >chlorides</th>\n",
       "      <td id=\"T_c1d85_row4_col0\" class=\"data row4 col0\" >1359.000000</td>\n",
       "      <td id=\"T_c1d85_row4_col1\" class=\"data row4 col1\" >0.088124</td>\n",
       "      <td id=\"T_c1d85_row4_col2\" class=\"data row4 col2\" >0.049377</td>\n",
       "      <td id=\"T_c1d85_row4_col3\" class=\"data row4 col3\" >0.012000</td>\n",
       "      <td id=\"T_c1d85_row4_col4\" class=\"data row4 col4\" >0.070000</td>\n",
       "      <td id=\"T_c1d85_row4_col5\" class=\"data row4 col5\" >0.079000</td>\n",
       "      <td id=\"T_c1d85_row4_col6\" class=\"data row4 col6\" >0.091000</td>\n",
       "      <td id=\"T_c1d85_row4_col7\" class=\"data row4 col7\" >0.611000</td>\n",
       "    </tr>\n",
       "    <tr>\n",
       "      <th id=\"T_c1d85_level0_row5\" class=\"row_heading level0 row5\" >free sulfur dioxide</th>\n",
       "      <td id=\"T_c1d85_row5_col0\" class=\"data row5 col0\" >1359.000000</td>\n",
       "      <td id=\"T_c1d85_row5_col1\" class=\"data row5 col1\" >15.893304</td>\n",
       "      <td id=\"T_c1d85_row5_col2\" class=\"data row5 col2\" >10.447270</td>\n",
       "      <td id=\"T_c1d85_row5_col3\" class=\"data row5 col3\" >1.000000</td>\n",
       "      <td id=\"T_c1d85_row5_col4\" class=\"data row5 col4\" >7.000000</td>\n",
       "      <td id=\"T_c1d85_row5_col5\" class=\"data row5 col5\" >14.000000</td>\n",
       "      <td id=\"T_c1d85_row5_col6\" class=\"data row5 col6\" >21.000000</td>\n",
       "      <td id=\"T_c1d85_row5_col7\" class=\"data row5 col7\" >72.000000</td>\n",
       "    </tr>\n",
       "    <tr>\n",
       "      <th id=\"T_c1d85_level0_row6\" class=\"row_heading level0 row6\" >total sulfur dioxide</th>\n",
       "      <td id=\"T_c1d85_row6_col0\" class=\"data row6 col0\" >1359.000000</td>\n",
       "      <td id=\"T_c1d85_row6_col1\" class=\"data row6 col1\" >46.825975</td>\n",
       "      <td id=\"T_c1d85_row6_col2\" class=\"data row6 col2\" >33.408946</td>\n",
       "      <td id=\"T_c1d85_row6_col3\" class=\"data row6 col3\" >6.000000</td>\n",
       "      <td id=\"T_c1d85_row6_col4\" class=\"data row6 col4\" >22.000000</td>\n",
       "      <td id=\"T_c1d85_row6_col5\" class=\"data row6 col5\" >38.000000</td>\n",
       "      <td id=\"T_c1d85_row6_col6\" class=\"data row6 col6\" >63.000000</td>\n",
       "      <td id=\"T_c1d85_row6_col7\" class=\"data row6 col7\" >289.000000</td>\n",
       "    </tr>\n",
       "    <tr>\n",
       "      <th id=\"T_c1d85_level0_row7\" class=\"row_heading level0 row7\" >density</th>\n",
       "      <td id=\"T_c1d85_row7_col0\" class=\"data row7 col0\" >1359.000000</td>\n",
       "      <td id=\"T_c1d85_row7_col1\" class=\"data row7 col1\" >0.996709</td>\n",
       "      <td id=\"T_c1d85_row7_col2\" class=\"data row7 col2\" >0.001869</td>\n",
       "      <td id=\"T_c1d85_row7_col3\" class=\"data row7 col3\" >0.990070</td>\n",
       "      <td id=\"T_c1d85_row7_col4\" class=\"data row7 col4\" >0.995600</td>\n",
       "      <td id=\"T_c1d85_row7_col5\" class=\"data row7 col5\" >0.996700</td>\n",
       "      <td id=\"T_c1d85_row7_col6\" class=\"data row7 col6\" >0.997820</td>\n",
       "      <td id=\"T_c1d85_row7_col7\" class=\"data row7 col7\" >1.003690</td>\n",
       "    </tr>\n",
       "    <tr>\n",
       "      <th id=\"T_c1d85_level0_row8\" class=\"row_heading level0 row8\" >pH</th>\n",
       "      <td id=\"T_c1d85_row8_col0\" class=\"data row8 col0\" >1359.000000</td>\n",
       "      <td id=\"T_c1d85_row8_col1\" class=\"data row8 col1\" >3.309787</td>\n",
       "      <td id=\"T_c1d85_row8_col2\" class=\"data row8 col2\" >0.155036</td>\n",
       "      <td id=\"T_c1d85_row8_col3\" class=\"data row8 col3\" >2.740000</td>\n",
       "      <td id=\"T_c1d85_row8_col4\" class=\"data row8 col4\" >3.210000</td>\n",
       "      <td id=\"T_c1d85_row8_col5\" class=\"data row8 col5\" >3.310000</td>\n",
       "      <td id=\"T_c1d85_row8_col6\" class=\"data row8 col6\" >3.400000</td>\n",
       "      <td id=\"T_c1d85_row8_col7\" class=\"data row8 col7\" >4.010000</td>\n",
       "    </tr>\n",
       "    <tr>\n",
       "      <th id=\"T_c1d85_level0_row9\" class=\"row_heading level0 row9\" >sulphates</th>\n",
       "      <td id=\"T_c1d85_row9_col0\" class=\"data row9 col0\" >1359.000000</td>\n",
       "      <td id=\"T_c1d85_row9_col1\" class=\"data row9 col1\" >0.658705</td>\n",
       "      <td id=\"T_c1d85_row9_col2\" class=\"data row9 col2\" >0.170667</td>\n",
       "      <td id=\"T_c1d85_row9_col3\" class=\"data row9 col3\" >0.330000</td>\n",
       "      <td id=\"T_c1d85_row9_col4\" class=\"data row9 col4\" >0.550000</td>\n",
       "      <td id=\"T_c1d85_row9_col5\" class=\"data row9 col5\" >0.620000</td>\n",
       "      <td id=\"T_c1d85_row9_col6\" class=\"data row9 col6\" >0.730000</td>\n",
       "      <td id=\"T_c1d85_row9_col7\" class=\"data row9 col7\" >2.000000</td>\n",
       "    </tr>\n",
       "    <tr>\n",
       "      <th id=\"T_c1d85_level0_row10\" class=\"row_heading level0 row10\" >alcohol</th>\n",
       "      <td id=\"T_c1d85_row10_col0\" class=\"data row10 col0\" >1359.000000</td>\n",
       "      <td id=\"T_c1d85_row10_col1\" class=\"data row10 col1\" >10.432315</td>\n",
       "      <td id=\"T_c1d85_row10_col2\" class=\"data row10 col2\" >1.082065</td>\n",
       "      <td id=\"T_c1d85_row10_col3\" class=\"data row10 col3\" >8.400000</td>\n",
       "      <td id=\"T_c1d85_row10_col4\" class=\"data row10 col4\" >9.500000</td>\n",
       "      <td id=\"T_c1d85_row10_col5\" class=\"data row10 col5\" >10.200000</td>\n",
       "      <td id=\"T_c1d85_row10_col6\" class=\"data row10 col6\" >11.100000</td>\n",
       "      <td id=\"T_c1d85_row10_col7\" class=\"data row10 col7\" >14.900000</td>\n",
       "    </tr>\n",
       "    <tr>\n",
       "      <th id=\"T_c1d85_level0_row11\" class=\"row_heading level0 row11\" >quality</th>\n",
       "      <td id=\"T_c1d85_row11_col0\" class=\"data row11 col0\" >1359.000000</td>\n",
       "      <td id=\"T_c1d85_row11_col1\" class=\"data row11 col1\" >5.623252</td>\n",
       "      <td id=\"T_c1d85_row11_col2\" class=\"data row11 col2\" >0.823578</td>\n",
       "      <td id=\"T_c1d85_row11_col3\" class=\"data row11 col3\" >3.000000</td>\n",
       "      <td id=\"T_c1d85_row11_col4\" class=\"data row11 col4\" >5.000000</td>\n",
       "      <td id=\"T_c1d85_row11_col5\" class=\"data row11 col5\" >6.000000</td>\n",
       "      <td id=\"T_c1d85_row11_col6\" class=\"data row11 col6\" >6.000000</td>\n",
       "      <td id=\"T_c1d85_row11_col7\" class=\"data row11 col7\" >8.000000</td>\n",
       "    </tr>\n",
       "  </tbody>\n",
       "</table>\n"
      ],
      "text/plain": [
       "<pandas.io.formats.style.Styler at 0x127a16d40>"
      ]
     },
     "execution_count": 10,
     "metadata": {},
     "output_type": "execute_result"
    }
   ],
   "source": [
    "# Showing basic descriptive statistical analysis:\n",
    "df.describe().T.style"
   ]
  },
  {
   "cell_type": "markdown",
   "id": "393ed234",
   "metadata": {},
   "source": [
    "Wine quality: min is 3, max is 8"
   ]
  },
  {
   "cell_type": "markdown",
   "id": "7d6d8a9f",
   "metadata": {},
   "source": [
    "### <a id='toc1_4_2_'></a>[Univarite analysis](#toc0_)"
   ]
  },
  {
   "cell_type": "code",
   "execution_count": 11,
   "id": "15f370b5",
   "metadata": {},
   "outputs": [
    {
     "data": {
      "image/png": "[encoded data removed]",
      "text/plain": [
       "<Figure size 1152x1440 with 12 Axes>"
      ]
     },
     "metadata": {
      "needs_background": "light"
     },
     "output_type": "display_data"
    }
   ],
   "source": [
    "# Visualise all continuous column with boxplot:\n",
    "# Select columns for box plots (exclude \"quality\")\n",
    "df_boxplot = df.drop(columns=['quality'])\n",
    "\n",
    "# Calculate the number of rows and columns for subplots\n",
    "num_columns = df_boxplot.shape[1]\n",
    "num_rows = (num_columns) // 3 + 1\n",
    "\n",
    "# Create a figure with subplots\n",
    "fig, axes = plt.subplots(nrows=num_rows, ncols=3, figsize=(16, num_rows * 5))\n",
    "fig.suptitle(\"Box Plots for Columns (Excluding 'quality')\",\n",
    "             fontsize=26)\n",
    "\n",
    "# Loop through each column and create a box plot in a subplot\n",
    "for idx, column in enumerate(df_boxplot.columns):\n",
    "    if idx < num_columns:\n",
    "        row = idx // 3\n",
    "        col = idx % 3\n",
    "        sns.boxplot(data=df_boxplot[column], ax=axes[row, col])\n",
    "        axes[row, col].set_title(column)\n",
    "        axes[row, col].set_xticklabels([])\n",
    "        axes[row, col].set_xlabel('')\n",
    "\n",
    "# Adjust layout and spacing between subplots\n",
    "plt.tight_layout()\n",
    "plt.subplots_adjust(top=0.9)\n",
    "\n",
    "# Show the plots\n",
    "plt.show()"
   ]
  },
  {
   "cell_type": "markdown",
   "id": "34f70c25",
   "metadata": {},
   "source": [
    "By looking at their boxplot, except 'fixed acidity' and 'density', the rest have quite clear outliers.<br>\n",
    "Anyone who's specilised in the field can look at those outliers in deeper manner. However, as one who <br> do not know much about wine's physiochemistry, those outliers would not give me much different information <br> than non-oulier points."
   ]
  },
  {
   "cell_type": "code",
   "execution_count": 12,
   "id": "73e67c88",
   "metadata": {},
   "outputs": [
    {
     "data": {
      "image/png": "[encoded data removed]",
      "text/plain": [
       "<Figure size 1152x720 with 12 Axes>"
      ]
     },
     "metadata": {
      "needs_background": "light"
     },
     "output_type": "display_data"
    }
   ],
   "source": [
    "# Create histograms for all columns\n",
    "df.hist(bins=20, figsize=(16, 10))\n",
    "plt.suptitle(\"Histograms of All Wine Features\", fontsize=26)\n",
    "plt.tight_layout(rect=[0, 0.03, 1, 0.95])  # Adjust to include supertitle\n",
    "plt.show()"
   ]
  },
  {
   "cell_type": "markdown",
   "id": "d73af772",
   "metadata": {},
   "source": [
    "Most of features with continuous values have their distribution look roughly normal distribution, maybe except 'citri acid' and 'free sulfur dioxide'.<br>\n",
    "Also, most of them look right-skewed, too, except 'density' and 'pH'"
   ]
  },
  {
   "cell_type": "code",
   "execution_count": 13,
   "id": "4a1e630b",
   "metadata": {},
   "outputs": [
    {
     "data": {
      "image/png": "[encoded data removed]",
      "text/plain": [
       "<Figure size 576x432 with 1 Axes>"
      ]
     },
     "metadata": {
      "needs_background": "light"
     },
     "output_type": "display_data"
    }
   ],
   "source": [
    "# Show distribution of 'alcohol'\n",
    "plt.figure(figsize=(8, 6))\n",
    "sns.histplot(df['alcohol'], bins=20, kde=True, color='blue', edgecolor='black',\n",
    "             line_kws={'lw': 5})\n",
    "plt.title(\"Distribution of Alcohol Feature\")\n",
    "plt.xlabel(\"Alcohol\")\n",
    "plt.ylabel(\"Degree\")\n",
    "plt.grid(False)\n",
    "plt.show()"
   ]
  },
  {
   "cell_type": "markdown",
   "id": "3f027b93",
   "metadata": {},
   "source": [
    "Again, 'alcohol' dimension is considered normal distribution with being slightly right tailed."
   ]
  },
  {
   "cell_type": "code",
   "execution_count": 14,
   "id": "1af2841d",
   "metadata": {
    "scrolled": false
   },
   "outputs": [
    {
     "data": {
      "image/png": "[encoded data removed]",
      "text/plain": [
       "<Figure size 1152x864 with 1 Axes>"
      ]
     },
     "metadata": {},
     "output_type": "display_data"
    }
   ],
   "source": [
    "# This visualisation is static graph for Github upload, interactive next cell\n",
    "# Visualise the propotion of 'quality' feature:\n",
    "# Count the occurrences of each quality category\n",
    "quality_counts = df['quality'].value_counts()\n",
    "\n",
    "# Define explode values to separate crowded slices\n",
    "explode = (0.1, 0.1, 0, 0, 0, 0)  # Explode the first slice\n",
    "\n",
    "# Create a pie chart with explode and legend\n",
    "plt.figure(figsize=(16, 12))\n",
    "plt.pie(quality_counts, labels=quality_counts.index, autopct='%1.1f%%',\n",
    "        startangle=140, explode=explode, shadow=True)\n",
    "plt.title(\"Distribution of Wine Quality\", fontdict={'fontsize': 18})\n",
    "\n",
    "# Add a legend to provide clear overview\n",
    "plt.legend(title=\"Quality Grading\", loc=\"best\", labels=quality_counts.index)\n",
    "plt.axis('equal')\n",
    "plt.show()"
   ]
  },
  {
   "cell_type": "code",
   "execution_count": 15,
   "id": "0af0330c",
   "metadata": {},
   "outputs": [
    {
     "data": {
      "application/vnd.plotly.v1+json": {
       "config": {
        "plotlyServerURL": "https://plot.ly"
       },
       "data": [
        {
         "domain": {
          "x": [
           0,
           1
          ],
          "y": [
           0,
           1
          ]
         },
         "hovertemplate": "Quality Category=%{label}<br>Count=%{value}<extra></extra>",
         "labels": [
          5,
          6,
          7,
          4,
          8,
          3
         ],
         "legendgroup": "",
         "name": "",
         "showlegend": true,
         "type": "pie",
         "values": [
          577,
          535,
          167,
          53,
          17,
          10
         ]
        }
       ],
       "layout": {
        "legend": {
         "title": {
          "text": "Quality grade"
         },
         "tracegroupgap": 0
        },
        "template": {
         "data": {
          "bar": [
           {
            "error_x": {
             "color": "#2a3f5f"
            },
            "error_y": {
             "color": "#2a3f5f"
            },
            "marker": {
             "line": {
              "color": "#E5ECF6",
              "width": 0.5
             },
             "pattern": {
              "fillmode": "overlay",
              "size": 10,
              "solidity": 0.2
             }
            },
            "type": "bar"
           }
          ],
          "barpolar": [
           {
            "marker": {
             "line": {
              "color": "#E5ECF6",
              "width": 0.5
             },
             "pattern": {
              "fillmode": "overlay",
              "size": 10,
              "solidity": 0.2
             }
            },
            "type": "barpolar"
           }
          ],
          "carpet": [
           {
            "aaxis": {
             "endlinecolor": "#2a3f5f",
             "gridcolor": "white",
             "linecolor": "white",
             "minorgridcolor": "white",
             "startlinecolor": "#2a3f5f"
            },
            "baxis": {
             "endlinecolor": "#2a3f5f",
             "gridcolor": "white",
             "linecolor": "white",
             "minorgridcolor": "white",
             "startlinecolor": "#2a3f5f"
            },
            "type": "carpet"
           }
          ],
          "choropleth": [
           {
            "colorbar": {
             "outlinewidth": 0,
             "ticks": ""
            },
            "type": "choropleth"
           }
          ],
          "contour": [
           {
            "colorbar": {
             "outlinewidth": 0,
             "ticks": ""
            },
            "colorscale": [
             [
              0,
              "#0d0887"
             ],
             [
              0.1111111111111111,
              "#46039f"
             ],
             [
              0.2222222222222222,
              "#7201a8"
             ],
             [
              0.3333333333333333,
              "#9c179e"
             ],
             [
              0.4444444444444444,
              "#bd3786"
             ],
             [
              0.5555555555555556,
              "#d8576b"
             ],
             [
              0.6666666666666666,
              "#ed7953"
             ],
             [
              0.7777777777777778,
              "#fb9f3a"
             ],
             [
              0.8888888888888888,
              "#fdca26"
             ],
             [
              1,
              "#f0f921"
             ]
            ],
            "type": "contour"
           }
          ],
          "contourcarpet": [
           {
            "colorbar": {
             "outlinewidth": 0,
             "ticks": ""
            },
            "type": "contourcarpet"
           }
          ],
          "heatmap": [
           {
            "colorbar": {
             "outlinewidth": 0,
             "ticks": ""
            },
            "colorscale": [
             [
              0,
              "#0d0887"
             ],
             [
              0.1111111111111111,
              "#46039f"
             ],
             [
              0.2222222222222222,
              "#7201a8"
             ],
             [
              0.3333333333333333,
              "#9c179e"
             ],
             [
              0.4444444444444444,
              "#bd3786"
             ],
             [
              0.5555555555555556,
              "#d8576b"
             ],
             [
              0.6666666666666666,
              "#ed7953"
             ],
             [
              0.7777777777777778,
              "#fb9f3a"
             ],
             [
              0.8888888888888888,
              "#fdca26"
             ],
             [
              1,
              "#f0f921"
             ]
            ],
            "type": "heatmap"
           }
          ],
          "heatmapgl": [
           {
            "colorbar": {
             "outlinewidth": 0,
             "ticks": ""
            },
            "colorscale": [
             [
              0,
              "#0d0887"
             ],
             [
              0.1111111111111111,
              "#46039f"
             ],
             [
              0.2222222222222222,
              "#7201a8"
             ],
             [
              0.3333333333333333,
              "#9c179e"
             ],
             [
              0.4444444444444444,
              "#bd3786"
             ],
             [
              0.5555555555555556,
              "#d8576b"
             ],
             [
              0.6666666666666666,
              "#ed7953"
             ],
             [
              0.7777777777777778,
              "#fb9f3a"
             ],
             [
              0.8888888888888888,
              "#fdca26"
             ],
             [
              1,
              "#f0f921"
             ]
            ],
            "type": "heatmapgl"
           }
          ],
          "histogram": [
           {
            "marker": {
             "pattern": {
              "fillmode": "overlay",
              "size": 10,
              "solidity": 0.2
             }
            },
            "type": "histogram"
           }
          ],
          "histogram2d": [
           {
            "colorbar": {
             "outlinewidth": 0,
             "ticks": ""
            },
            "colorscale": [
             [
              0,
              "#0d0887"
             ],
             [
              0.1111111111111111,
              "#46039f"
             ],
             [
              0.2222222222222222,
              "#7201a8"
             ],
             [
              0.3333333333333333,
              "#9c179e"
             ],
             [
              0.4444444444444444,
              "#bd3786"
             ],
             [
              0.5555555555555556,
              "#d8576b"
             ],
             [
              0.6666666666666666,
              "#ed7953"
             ],
             [
              0.7777777777777778,
              "#fb9f3a"
             ],
             [
              0.8888888888888888,
              "#fdca26"
             ],
             [
              1,
              "#f0f921"
             ]
            ],
            "type": "histogram2d"
           }
          ],
          "histogram2dcontour": [
           {
            "colorbar": {
             "outlinewidth": 0,
             "ticks": ""
            },
            "colorscale": [
             [
              0,
              "#0d0887"
             ],
             [
              0.1111111111111111,
              "#46039f"
             ],
             [
              0.2222222222222222,
              "#7201a8"
             ],
             [
              0.3333333333333333,
              "#9c179e"
             ],
             [
              0.4444444444444444,
              "#bd3786"
             ],
             [
              0.5555555555555556,
              "#d8576b"
             ],
             [
              0.6666666666666666,
              "#ed7953"
             ],
             [
              0.7777777777777778,
              "#fb9f3a"
             ],
             [
              0.8888888888888888,
              "#fdca26"
             ],
             [
              1,
              "#f0f921"
             ]
            ],
            "type": "histogram2dcontour"
           }
          ],
          "mesh3d": [
           {
            "colorbar": {
             "outlinewidth": 0,
             "ticks": ""
            },
            "type": "mesh3d"
           }
          ],
          "parcoords": [
           {
            "line": {
             "colorbar": {
              "outlinewidth": 0,
              "ticks": ""
             }
            },
            "type": "parcoords"
           }
          ],
          "pie": [
           {
            "automargin": true,
            "type": "pie"
           }
          ],
          "scatter": [
           {
            "fillpattern": {
             "fillmode": "overlay",
             "size": 10,
             "solidity": 0.2
            },
            "type": "scatter"
           }
          ],
          "scatter3d": [
           {
            "line": {
             "colorbar": {
              "outlinewidth": 0,
              "ticks": ""
             }
            },
            "marker": {
             "colorbar": {
              "outlinewidth": 0,
              "ticks": ""
             }
            },
            "type": "scatter3d"
           }
          ],
          "scattercarpet": [
           {
            "marker": {
             "colorbar": {
              "outlinewidth": 0,
              "ticks": ""
             }
            },
            "type": "scattercarpet"
           }
          ],
          "scattergeo": [
           {
            "marker": {
             "colorbar": {
              "outlinewidth": 0,
              "ticks": ""
             }
            },
            "type": "scattergeo"
           }
          ],
          "scattergl": [
           {
            "marker": {
             "colorbar": {
              "outlinewidth": 0,
              "ticks": ""
             }
            },
            "type": "scattergl"
           }
          ],
          "scattermapbox": [
           {
            "marker": {
             "colorbar": {
              "outlinewidth": 0,
              "ticks": ""
             }
            },
            "type": "scattermapbox"
           }
          ],
          "scatterpolar": [
           {
            "marker": {
             "colorbar": {
              "outlinewidth": 0,
              "ticks": ""
             }
            },
            "type": "scatterpolar"
           }
          ],
          "scatterpolargl": [
           {
            "marker": {
             "colorbar": {
              "outlinewidth": 0,
              "ticks": ""
             }
            },
            "type": "scatterpolargl"
           }
          ],
          "scatterternary": [
           {
            "marker": {
             "colorbar": {
              "outlinewidth": 0,
              "ticks": ""
             }
            },
            "type": "scatterternary"
           }
          ],
          "surface": [
           {
            "colorbar": {
             "outlinewidth": 0,
             "ticks": ""
            },
            "colorscale": [
             [
              0,
              "#0d0887"
             ],
             [
              0.1111111111111111,
              "#46039f"
             ],
             [
              0.2222222222222222,
              "#7201a8"
             ],
             [
              0.3333333333333333,
              "#9c179e"
             ],
             [
              0.4444444444444444,
              "#bd3786"
             ],
             [
              0.5555555555555556,
              "#d8576b"
             ],
             [
              0.6666666666666666,
              "#ed7953"
             ],
             [
              0.7777777777777778,
              "#fb9f3a"
             ],
             [
              0.8888888888888888,
              "#fdca26"
             ],
             [
              1,
              "#f0f921"
             ]
            ],
            "type": "surface"
           }
          ],
          "table": [
           {
            "cells": {
             "fill": {
              "color": "#EBF0F8"
             },
             "line": {
              "color": "white"
             }
            },
            "header": {
             "fill": {
              "color": "#C8D4E3"
             },
             "line": {
              "color": "white"
             }
            },
            "type": "table"
           }
          ]
         },
         "layout": {
          "annotationdefaults": {
           "arrowcolor": "#2a3f5f",
           "arrowhead": 0,
           "arrowwidth": 1
          },
          "autotypenumbers": "strict",
          "coloraxis": {
           "colorbar": {
            "outlinewidth": 0,
            "ticks": ""
           }
          },
          "colorscale": {
           "diverging": [
            [
             0,
             "#8e0152"
            ],
            [
             0.1,
             "#c51b7d"
            ],
            [
             0.2,
             "#de77ae"
            ],
            [
             0.3,
             "#f1b6da"
            ],
            [
             0.4,
             "#fde0ef"
            ],
            [
             0.5,
             "#f7f7f7"
            ],
            [
             0.6,
             "#e6f5d0"
            ],
            [
             0.7,
             "#b8e186"
            ],
            [
             0.8,
             "#7fbc41"
            ],
            [
             0.9,
             "#4d9221"
            ],
            [
             1,
             "#276419"
            ]
           ],
           "sequential": [
            [
             0,
             "#0d0887"
            ],
            [
             0.1111111111111111,
             "#46039f"
            ],
            [
             0.2222222222222222,
             "#7201a8"
            ],
            [
             0.3333333333333333,
             "#9c179e"
            ],
            [
             0.4444444444444444,
             "#bd3786"
            ],
            [
             0.5555555555555556,
             "#d8576b"
            ],
            [
             0.6666666666666666,
             "#ed7953"
            ],
            [
             0.7777777777777778,
             "#fb9f3a"
            ],
            [
             0.8888888888888888,
             "#fdca26"
            ],
            [
             1,
             "#f0f921"
            ]
           ],
           "sequentialminus": [
            [
             0,
             "#0d0887"
            ],
            [
             0.1111111111111111,
             "#46039f"
            ],
            [
             0.2222222222222222,
             "#7201a8"
            ],
            [
             0.3333333333333333,
             "#9c179e"
            ],
            [
             0.4444444444444444,
             "#bd3786"
            ],
            [
             0.5555555555555556,
             "#d8576b"
            ],
            [
             0.6666666666666666,
             "#ed7953"
            ],
            [
             0.7777777777777778,
             "#fb9f3a"
            ],
            [
             0.8888888888888888,
             "#fdca26"
            ],
            [
             1,
             "#f0f921"
            ]
           ]
          },
          "colorway": [
           "#636efa",
           "#EF553B",
           "#00cc96",
           "#ab63fa",
           "#FFA15A",
           "#19d3f3",
           "#FF6692",
           "#B6E880",
           "#FF97FF",
           "#FECB52"
          ],
          "font": {
           "color": "#2a3f5f"
          },
          "geo": {
           "bgcolor": "white",
           "lakecolor": "white",
           "landcolor": "#E5ECF6",
           "showlakes": true,
           "showland": true,
           "subunitcolor": "white"
          },
          "hoverlabel": {
           "align": "left"
          },
          "hovermode": "closest",
          "mapbox": {
           "style": "light"
          },
          "paper_bgcolor": "white",
          "plot_bgcolor": "#E5ECF6",
          "polar": {
           "angularaxis": {
            "gridcolor": "white",
            "linecolor": "white",
            "ticks": ""
           },
           "bgcolor": "#E5ECF6",
           "radialaxis": {
            "gridcolor": "white",
            "linecolor": "white",
            "ticks": ""
           }
          },
          "scene": {
           "xaxis": {
            "backgroundcolor": "#E5ECF6",
            "gridcolor": "white",
            "gridwidth": 2,
            "linecolor": "white",
            "showbackground": true,
            "ticks": "",
            "zerolinecolor": "white"
           },
           "yaxis": {
            "backgroundcolor": "#E5ECF6",
            "gridcolor": "white",
            "gridwidth": 2,
            "linecolor": "white",
            "showbackground": true,
            "ticks": "",
            "zerolinecolor": "white"
           },
           "zaxis": {
            "backgroundcolor": "#E5ECF6",
            "gridcolor": "white",
            "gridwidth": 2,
            "linecolor": "white",
            "showbackground": true,
            "ticks": "",
            "zerolinecolor": "white"
           }
          },
          "shapedefaults": {
           "line": {
            "color": "#2a3f5f"
           }
          },
          "ternary": {
           "aaxis": {
            "gridcolor": "white",
            "linecolor": "white",
            "ticks": ""
           },
           "baxis": {
            "gridcolor": "white",
            "linecolor": "white",
            "ticks": ""
           },
           "bgcolor": "#E5ECF6",
           "caxis": {
            "gridcolor": "white",
            "linecolor": "white",
            "ticks": ""
           }
          },
          "title": {
           "x": 0.05
          },
          "xaxis": {
           "automargin": true,
           "gridcolor": "white",
           "linecolor": "white",
           "ticks": "",
           "title": {
            "standoff": 15
           },
           "zerolinecolor": "white",
           "zerolinewidth": 2
          },
          "yaxis": {
           "automargin": true,
           "gridcolor": "white",
           "linecolor": "white",
           "ticks": "",
           "title": {
            "standoff": 15
           },
           "zerolinecolor": "white",
           "zerolinewidth": 2
          }
         }
        },
        "title": {
         "text": "Distribution of Wine Quality"
        }
       }
      }
     },
     "metadata": {},
     "output_type": "display_data"
    }
   ],
   "source": [
    "# Interactive pie chart (not be shown on Github version but on JN):\n",
    "# Count the occurrences of each quality category\n",
    "quality_counts = df['quality'].value_counts().reset_index()\n",
    "quality_counts.columns = ['Quality', 'Count']\n",
    "\n",
    "# Create an interactive pie chart using Plotly Express\n",
    "fig = px.pie(quality_counts, values='Count', names='Quality',\n",
    "             title='Distribution of Wine Quality',\n",
    "             labels={'Quality': 'Quality Category'})\n",
    "# Customize the legend title\n",
    "fig.update_layout(legend_title_text='Quality grade')\n",
    "# Show the interactive chart\n",
    "fig.show()"
   ]
  },
  {
   "cell_type": "markdown",
   "id": "9815e574",
   "metadata": {},
   "source": [
    "Looking at the pie charts, we can easily see there is six quality grade, which is from 3 to 8, and grade 5 is the highest propotion, 45.5% and followed by quality 6 with 39.4%"
   ]
  },
  {
   "cell_type": "markdown",
   "id": "4c959c63",
   "metadata": {},
   "source": [
    "### <a id='toc1_4_3_'></a>[Bivariate analysis](#toc0_)"
   ]
  },
  {
   "cell_type": "code",
   "execution_count": 16,
   "id": "b8f45a8b",
   "metadata": {},
   "outputs": [
    {
     "data": {
      "image/png": "[encoded data removed]",
      "text/plain": [
       "<Figure size 720x576 with 2 Axes>"
      ]
     },
     "metadata": {
      "needs_background": "light"
     },
     "output_type": "display_data"
    }
   ],
   "source": [
    "# Correlation between all continuous features:\n",
    "columns = df.columns.tolist()\n",
    "columns.remove(\"quality\")  # Quality is having discrete values\n",
    "corr = df[columns].corr()\n",
    "plt.figure(figsize=(10, 8))\n",
    "sns.heatmap(corr, fmt=\".2g\", annot=True, cmap='YlOrRd_r')\n",
    "plt.title(\"Correlation all Independet Features\",\n",
    "          fontweight=\"black\", size=25, pad=20)\n",
    "plt.tight_layout()\n",
    "plt.show()"
   ]
  },
  {
   "cell_type": "code",
   "execution_count": 17,
   "id": "059cf7e7",
   "metadata": {},
   "outputs": [
    {
     "name": "stderr",
     "output_type": "stream",
     "text": [
      "1:1: E266 too many leading '#' for block comment\n"
     ]
    }
   ],
   "source": [
    "## Need to check negative value, too"
   ]
  },
  {
   "cell_type": "code",
   "execution_count": 18,
   "id": "ff8468e6",
   "metadata": {},
   "outputs": [
    {
     "data": {
      "text/html": [
       "<div>\n",
       "<style scoped>\n",
       "    .dataframe tbody tr th:only-of-type {\n",
       "        vertical-align: middle;\n",
       "    }\n",
       "\n",
       "    .dataframe tbody tr th {\n",
       "        vertical-align: top;\n",
       "    }\n",
       "\n",
       "    .dataframe thead th {\n",
       "        text-align: right;\n",
       "    }\n",
       "</style>\n",
       "<table border=\"1\" class=\"dataframe\">\n",
       "  <thead>\n",
       "    <tr style=\"text-align: right;\">\n",
       "      <th></th>\n",
       "      <th>fixed acidity</th>\n",
       "      <th>volatile acidity</th>\n",
       "      <th>citric acid</th>\n",
       "      <th>residual sugar</th>\n",
       "      <th>chlorides</th>\n",
       "      <th>free sulfur dioxide</th>\n",
       "      <th>total sulfur dioxide</th>\n",
       "      <th>density</th>\n",
       "      <th>pH</th>\n",
       "      <th>sulphates</th>\n",
       "      <th>alcohol</th>\n",
       "    </tr>\n",
       "  </thead>\n",
       "  <tbody>\n",
       "    <tr>\n",
       "      <th>fixed acidity</th>\n",
       "      <td>0.000000</td>\n",
       "      <td>0.0</td>\n",
       "      <td>0.667437</td>\n",
       "      <td>0.0</td>\n",
       "      <td>0.0</td>\n",
       "      <td>0.000000</td>\n",
       "      <td>0.000000</td>\n",
       "      <td>0.670195</td>\n",
       "      <td>0.0</td>\n",
       "      <td>0.0</td>\n",
       "      <td>0.0</td>\n",
       "    </tr>\n",
       "    <tr>\n",
       "      <th>volatile acidity</th>\n",
       "      <td>0.000000</td>\n",
       "      <td>0.0</td>\n",
       "      <td>0.000000</td>\n",
       "      <td>0.0</td>\n",
       "      <td>0.0</td>\n",
       "      <td>0.000000</td>\n",
       "      <td>0.000000</td>\n",
       "      <td>0.000000</td>\n",
       "      <td>0.0</td>\n",
       "      <td>0.0</td>\n",
       "      <td>0.0</td>\n",
       "    </tr>\n",
       "    <tr>\n",
       "      <th>citric acid</th>\n",
       "      <td>0.667437</td>\n",
       "      <td>0.0</td>\n",
       "      <td>0.000000</td>\n",
       "      <td>0.0</td>\n",
       "      <td>0.0</td>\n",
       "      <td>0.000000</td>\n",
       "      <td>0.000000</td>\n",
       "      <td>0.000000</td>\n",
       "      <td>0.0</td>\n",
       "      <td>0.0</td>\n",
       "      <td>0.0</td>\n",
       "    </tr>\n",
       "    <tr>\n",
       "      <th>residual sugar</th>\n",
       "      <td>0.000000</td>\n",
       "      <td>0.0</td>\n",
       "      <td>0.000000</td>\n",
       "      <td>0.0</td>\n",
       "      <td>0.0</td>\n",
       "      <td>0.000000</td>\n",
       "      <td>0.000000</td>\n",
       "      <td>0.000000</td>\n",
       "      <td>0.0</td>\n",
       "      <td>0.0</td>\n",
       "      <td>0.0</td>\n",
       "    </tr>\n",
       "    <tr>\n",
       "      <th>chlorides</th>\n",
       "      <td>0.000000</td>\n",
       "      <td>0.0</td>\n",
       "      <td>0.000000</td>\n",
       "      <td>0.0</td>\n",
       "      <td>0.0</td>\n",
       "      <td>0.000000</td>\n",
       "      <td>0.000000</td>\n",
       "      <td>0.000000</td>\n",
       "      <td>0.0</td>\n",
       "      <td>0.0</td>\n",
       "      <td>0.0</td>\n",
       "    </tr>\n",
       "    <tr>\n",
       "      <th>free sulfur dioxide</th>\n",
       "      <td>0.000000</td>\n",
       "      <td>0.0</td>\n",
       "      <td>0.000000</td>\n",
       "      <td>0.0</td>\n",
       "      <td>0.0</td>\n",
       "      <td>0.000000</td>\n",
       "      <td>0.667246</td>\n",
       "      <td>0.000000</td>\n",
       "      <td>0.0</td>\n",
       "      <td>0.0</td>\n",
       "      <td>0.0</td>\n",
       "    </tr>\n",
       "    <tr>\n",
       "      <th>total sulfur dioxide</th>\n",
       "      <td>0.000000</td>\n",
       "      <td>0.0</td>\n",
       "      <td>0.000000</td>\n",
       "      <td>0.0</td>\n",
       "      <td>0.0</td>\n",
       "      <td>0.667246</td>\n",
       "      <td>0.000000</td>\n",
       "      <td>0.000000</td>\n",
       "      <td>0.0</td>\n",
       "      <td>0.0</td>\n",
       "      <td>0.0</td>\n",
       "    </tr>\n",
       "    <tr>\n",
       "      <th>density</th>\n",
       "      <td>0.670195</td>\n",
       "      <td>0.0</td>\n",
       "      <td>0.000000</td>\n",
       "      <td>0.0</td>\n",
       "      <td>0.0</td>\n",
       "      <td>0.000000</td>\n",
       "      <td>0.000000</td>\n",
       "      <td>0.000000</td>\n",
       "      <td>0.0</td>\n",
       "      <td>0.0</td>\n",
       "      <td>0.0</td>\n",
       "    </tr>\n",
       "    <tr>\n",
       "      <th>pH</th>\n",
       "      <td>0.000000</td>\n",
       "      <td>0.0</td>\n",
       "      <td>0.000000</td>\n",
       "      <td>0.0</td>\n",
       "      <td>0.0</td>\n",
       "      <td>0.000000</td>\n",
       "      <td>0.000000</td>\n",
       "      <td>0.000000</td>\n",
       "      <td>0.0</td>\n",
       "      <td>0.0</td>\n",
       "      <td>0.0</td>\n",
       "    </tr>\n",
       "    <tr>\n",
       "      <th>sulphates</th>\n",
       "      <td>0.000000</td>\n",
       "      <td>0.0</td>\n",
       "      <td>0.000000</td>\n",
       "      <td>0.0</td>\n",
       "      <td>0.0</td>\n",
       "      <td>0.000000</td>\n",
       "      <td>0.000000</td>\n",
       "      <td>0.000000</td>\n",
       "      <td>0.0</td>\n",
       "      <td>0.0</td>\n",
       "      <td>0.0</td>\n",
       "    </tr>\n",
       "    <tr>\n",
       "      <th>alcohol</th>\n",
       "      <td>0.000000</td>\n",
       "      <td>0.0</td>\n",
       "      <td>0.000000</td>\n",
       "      <td>0.0</td>\n",
       "      <td>0.0</td>\n",
       "      <td>0.000000</td>\n",
       "      <td>0.000000</td>\n",
       "      <td>0.000000</td>\n",
       "      <td>0.0</td>\n",
       "      <td>0.0</td>\n",
       "      <td>0.0</td>\n",
       "    </tr>\n",
       "  </tbody>\n",
       "</table>\n",
       "</div>"
      ],
      "text/plain": [
       "                      fixed acidity  volatile acidity  citric acid  \\\n",
       "fixed acidity              0.000000               0.0     0.667437   \n",
       "volatile acidity           0.000000               0.0     0.000000   \n",
       "citric acid                0.667437               0.0     0.000000   \n",
       "residual sugar             0.000000               0.0     0.000000   \n",
       "chlorides                  0.000000               0.0     0.000000   \n",
       "free sulfur dioxide        0.000000               0.0     0.000000   \n",
       "total sulfur dioxide       0.000000               0.0     0.000000   \n",
       "density                    0.670195               0.0     0.000000   \n",
       "pH                         0.000000               0.0     0.000000   \n",
       "sulphates                  0.000000               0.0     0.000000   \n",
       "alcohol                    0.000000               0.0     0.000000   \n",
       "\n",
       "                      residual sugar  chlorides  free sulfur dioxide  \\\n",
       "fixed acidity                    0.0        0.0             0.000000   \n",
       "volatile acidity                 0.0        0.0             0.000000   \n",
       "citric acid                      0.0        0.0             0.000000   \n",
       "residual sugar                   0.0        0.0             0.000000   \n",
       "chlorides                        0.0        0.0             0.000000   \n",
       "free sulfur dioxide              0.0        0.0             0.000000   \n",
       "total sulfur dioxide             0.0        0.0             0.667246   \n",
       "density                          0.0        0.0             0.000000   \n",
       "pH                               0.0        0.0             0.000000   \n",
       "sulphates                        0.0        0.0             0.000000   \n",
       "alcohol                          0.0        0.0             0.000000   \n",
       "\n",
       "                      total sulfur dioxide   density   pH  sulphates  alcohol  \n",
       "fixed acidity                     0.000000  0.670195  0.0        0.0      0.0  \n",
       "volatile acidity                  0.000000  0.000000  0.0        0.0      0.0  \n",
       "citric acid                       0.000000  0.000000  0.0        0.0      0.0  \n",
       "residual sugar                    0.000000  0.000000  0.0        0.0      0.0  \n",
       "chlorides                         0.000000  0.000000  0.0        0.0      0.0  \n",
       "free sulfur dioxide               0.667246  0.000000  0.0        0.0      0.0  \n",
       "total sulfur dioxide              0.000000  0.000000  0.0        0.0      0.0  \n",
       "density                           0.000000  0.000000  0.0        0.0      0.0  \n",
       "pH                                0.000000  0.000000  0.0        0.0      0.0  \n",
       "sulphates                         0.000000  0.000000  0.0        0.0      0.0  \n",
       "alcohol                           0.000000  0.000000  0.0        0.0      0.0  "
      ]
     },
     "execution_count": 18,
     "metadata": {},
     "output_type": "execute_result"
    }
   ],
   "source": [
    "# Filter the correlation table to show values higher than 0.65 and lower than 1\n",
    "filtered_correlations = corr[(corr > 0.65) & (corr < 1)].fillna(0)\n",
    "filtered_correlations"
   ]
  },
  {
   "cell_type": "markdown",
   "id": "5d4638bb",
   "metadata": {},
   "source": [
    "We can see some features have high correlation to others, including:<br>\n",
    "1. fixed acidity and citric acid (0.67)\n",
    "2. fixed acidity and density (0.67)\n",
    "3. free sulfur dioxide and total sulfur dioxide\t(0.67) <br>\n",
    "Those high correlation migh cause multicollinearity, yet, without domain knowlege of wine physiochemistry, it's really tricky to know. We might deprioritise those features while fiting a model later. \n"
   ]
  },
  {
   "cell_type": "code",
   "execution_count": 19,
   "id": "1f09caf6",
   "metadata": {},
   "outputs": [
    {
     "name": "stdout",
     "output_type": "stream",
     "text": [
      "Correlation between 'quality' and 'alcohol': 0.4880\n",
      "Correlation between 'quality' and 'chlorides': -0.2044\n",
      "Correlation between 'quality' and 'citric acid': 0.2194\n",
      "Correlation between 'quality' and 'density': -0.1843\n",
      "Correlation between 'quality' and 'fixed acidity': 0.1117\n",
      "Correlation between 'quality' and 'free sulfur dioxide': -0.0587\n",
      "Correlation between 'quality' and 'pH': -0.0427\n",
      "Correlation between 'quality' and 'residual sugar': 0.0257\n",
      "Correlation between 'quality' and 'sulphates': 0.3806\n",
      "Correlation between 'quality' and 'total sulfur dioxide': -0.1966\n",
      "Correlation between 'quality' and 'volatile acidity': -0.3874\n"
     ]
    }
   ],
   "source": [
    "# Between \"quality\" (discreet value) and each continuous column\n",
    "# Calculate the Spearman's rank correlation\n",
    "correlation_results = {}\n",
    "\n",
    "# Iterate through continuous columns\n",
    "continuous_columns = df.columns.difference(['quality'])\n",
    "for col in continuous_columns:\n",
    "    correlation, _ = stats.spearmanr(df['quality'], df[col])\n",
    "    correlation_results[col] = correlation\n",
    "\n",
    "# Print correlation results\n",
    "for col, correlation in correlation_results.items():\n",
    "    print(f\"Correlation between 'quality' and '{col}': {correlation:.4f}\")"
   ]
  },
  {
   "cell_type": "code",
   "execution_count": 20,
   "id": "43492d4e",
   "metadata": {},
   "outputs": [
    {
     "name": "stdout",
     "output_type": "stream",
     "text": [
      "The highest 0.488\n",
      "The lowest -0.3874\n"
     ]
    }
   ],
   "source": [
    "# The highest and lowest correlation value:\n",
    "print(\"The highest\", max(correlation_results.values()).round(4))\n",
    "print(\"The lowest\", min(correlation_results.values()).round(4))"
   ]
  },
  {
   "cell_type": "markdown",
   "id": "93b746d1",
   "metadata": {},
   "source": [
    "Clearly, the correlation result of 'quality' and other features (in pairs) is not high"
   ]
  },
  {
   "cell_type": "markdown",
   "id": "348d1fee",
   "metadata": {},
   "source": [
    "## <a id='toc1_5_'></a>[Statistical inference](#toc0_)"
   ]
  },
  {
   "cell_type": "markdown",
   "id": "e0b40748",
   "metadata": {},
   "source": [
    "- The population of this dataset is Red Wine products in the market\n",
    "- The statistical significance in this project is 5%"
   ]
  },
  {
   "cell_type": "markdown",
   "id": "49dfc87f",
   "metadata": {},
   "source": [
    "This part will look at 2 attributes: 'alcohol' and 'quality'. However, the feature 'quality' will be transformed to 'grade'"
   ]
  },
  {
   "cell_type": "markdown",
   "id": "3b901b3a",
   "metadata": {},
   "source": [
    "### <a id='toc1_5_1_'></a>['Alcohol'](#toc0_)"
   ]
  },
  {
   "cell_type": "code",
   "execution_count": 21,
   "id": "2563c28a",
   "metadata": {},
   "outputs": [
    {
     "name": "stdout",
     "output_type": "stream",
     "text": [
      "95% CI of alcohol is (10.37478575666473, 10.489845099356854)\n",
      "99% CI of alcohol is (10.356708623780918, 10.507922232240666)\n"
     ]
    }
   ],
   "source": [
    "# Confidence Interval (CI) of 'alcohol'\n",
    "# As its distribution shown above as normal distribution, and\n",
    "# the number of obsevation is robust (1598), then we will\n",
    "# use norm.interval() function:\n",
    "CI95 = stats.norm.interval(alpha=0.95, loc=np.mean(df['alcohol']),\n",
    "                           scale=stats.sem(df['alcohol']))\n",
    "CI99 = stats.norm.interval(alpha=0.99, loc=np.mean(df['alcohol']),\n",
    "                           scale=stats.sem(df['alcohol']))\n",
    "print('95% CI of alcohol is', CI95)\n",
    "print('99% CI of alcohol is', CI99)"
   ]
  },
  {
   "cell_type": "markdown",
   "id": "c8d54773",
   "metadata": {},
   "source": [
    "'quality' data are discreet, hence we cannot calculate CI as we did to 'alcohol' above"
   ]
  },
  {
   "cell_type": "markdown",
   "id": "61399f01",
   "metadata": {},
   "source": [
    "### <a id='toc1_5_2_'></a>['quality'/'grade'](#toc0_)"
   ]
  },
  {
   "cell_type": "code",
   "execution_count": 22,
   "id": "577462cc",
   "metadata": {},
   "outputs": [
    {
     "data": {
      "text/html": [
       "<div>\n",
       "<style scoped>\n",
       "    .dataframe tbody tr th:only-of-type {\n",
       "        vertical-align: middle;\n",
       "    }\n",
       "\n",
       "    .dataframe tbody tr th {\n",
       "        vertical-align: top;\n",
       "    }\n",
       "\n",
       "    .dataframe thead th {\n",
       "        text-align: right;\n",
       "    }\n",
       "</style>\n",
       "<table border=\"1\" class=\"dataframe\">\n",
       "  <thead>\n",
       "    <tr style=\"text-align: right;\">\n",
       "      <th></th>\n",
       "      <th>fixed acidity</th>\n",
       "      <th>volatile acidity</th>\n",
       "      <th>citric acid</th>\n",
       "      <th>residual sugar</th>\n",
       "      <th>chlorides</th>\n",
       "      <th>free sulfur dioxide</th>\n",
       "      <th>total sulfur dioxide</th>\n",
       "      <th>density</th>\n",
       "      <th>pH</th>\n",
       "      <th>sulphates</th>\n",
       "      <th>alcohol</th>\n",
       "      <th>quality</th>\n",
       "      <th>grade</th>\n",
       "    </tr>\n",
       "  </thead>\n",
       "  <tbody>\n",
       "    <tr>\n",
       "      <th>0</th>\n",
       "      <td>7.4</td>\n",
       "      <td>0.70</td>\n",
       "      <td>0.00</td>\n",
       "      <td>1.9</td>\n",
       "      <td>0.076</td>\n",
       "      <td>11.0</td>\n",
       "      <td>34.0</td>\n",
       "      <td>0.9978</td>\n",
       "      <td>3.51</td>\n",
       "      <td>0.56</td>\n",
       "      <td>9.4</td>\n",
       "      <td>5</td>\n",
       "      <td>2</td>\n",
       "    </tr>\n",
       "    <tr>\n",
       "      <th>1</th>\n",
       "      <td>7.8</td>\n",
       "      <td>0.88</td>\n",
       "      <td>0.00</td>\n",
       "      <td>2.6</td>\n",
       "      <td>0.098</td>\n",
       "      <td>25.0</td>\n",
       "      <td>67.0</td>\n",
       "      <td>0.9968</td>\n",
       "      <td>3.20</td>\n",
       "      <td>0.68</td>\n",
       "      <td>9.8</td>\n",
       "      <td>5</td>\n",
       "      <td>2</td>\n",
       "    </tr>\n",
       "    <tr>\n",
       "      <th>2</th>\n",
       "      <td>7.8</td>\n",
       "      <td>0.76</td>\n",
       "      <td>0.04</td>\n",
       "      <td>2.3</td>\n",
       "      <td>0.092</td>\n",
       "      <td>15.0</td>\n",
       "      <td>54.0</td>\n",
       "      <td>0.9970</td>\n",
       "      <td>3.26</td>\n",
       "      <td>0.65</td>\n",
       "      <td>9.8</td>\n",
       "      <td>5</td>\n",
       "      <td>2</td>\n",
       "    </tr>\n",
       "    <tr>\n",
       "      <th>3</th>\n",
       "      <td>11.2</td>\n",
       "      <td>0.28</td>\n",
       "      <td>0.56</td>\n",
       "      <td>1.9</td>\n",
       "      <td>0.075</td>\n",
       "      <td>17.0</td>\n",
       "      <td>60.0</td>\n",
       "      <td>0.9980</td>\n",
       "      <td>3.16</td>\n",
       "      <td>0.58</td>\n",
       "      <td>9.8</td>\n",
       "      <td>6</td>\n",
       "      <td>2</td>\n",
       "    </tr>\n",
       "    <tr>\n",
       "      <th>5</th>\n",
       "      <td>7.4</td>\n",
       "      <td>0.66</td>\n",
       "      <td>0.00</td>\n",
       "      <td>1.8</td>\n",
       "      <td>0.075</td>\n",
       "      <td>13.0</td>\n",
       "      <td>40.0</td>\n",
       "      <td>0.9978</td>\n",
       "      <td>3.51</td>\n",
       "      <td>0.56</td>\n",
       "      <td>9.4</td>\n",
       "      <td>5</td>\n",
       "      <td>2</td>\n",
       "    </tr>\n",
       "    <tr>\n",
       "      <th>6</th>\n",
       "      <td>7.9</td>\n",
       "      <td>0.60</td>\n",
       "      <td>0.06</td>\n",
       "      <td>1.6</td>\n",
       "      <td>0.069</td>\n",
       "      <td>15.0</td>\n",
       "      <td>59.0</td>\n",
       "      <td>0.9964</td>\n",
       "      <td>3.30</td>\n",
       "      <td>0.46</td>\n",
       "      <td>9.4</td>\n",
       "      <td>5</td>\n",
       "      <td>2</td>\n",
       "    </tr>\n",
       "    <tr>\n",
       "      <th>7</th>\n",
       "      <td>7.3</td>\n",
       "      <td>0.65</td>\n",
       "      <td>0.00</td>\n",
       "      <td>1.2</td>\n",
       "      <td>0.065</td>\n",
       "      <td>15.0</td>\n",
       "      <td>21.0</td>\n",
       "      <td>0.9946</td>\n",
       "      <td>3.39</td>\n",
       "      <td>0.47</td>\n",
       "      <td>10.0</td>\n",
       "      <td>7</td>\n",
       "      <td>1</td>\n",
       "    </tr>\n",
       "    <tr>\n",
       "      <th>8</th>\n",
       "      <td>7.8</td>\n",
       "      <td>0.58</td>\n",
       "      <td>0.02</td>\n",
       "      <td>2.0</td>\n",
       "      <td>0.073</td>\n",
       "      <td>9.0</td>\n",
       "      <td>18.0</td>\n",
       "      <td>0.9968</td>\n",
       "      <td>3.36</td>\n",
       "      <td>0.57</td>\n",
       "      <td>9.5</td>\n",
       "      <td>7</td>\n",
       "      <td>1</td>\n",
       "    </tr>\n",
       "    <tr>\n",
       "      <th>9</th>\n",
       "      <td>7.5</td>\n",
       "      <td>0.50</td>\n",
       "      <td>0.36</td>\n",
       "      <td>6.1</td>\n",
       "      <td>0.071</td>\n",
       "      <td>17.0</td>\n",
       "      <td>102.0</td>\n",
       "      <td>0.9978</td>\n",
       "      <td>3.35</td>\n",
       "      <td>0.80</td>\n",
       "      <td>10.5</td>\n",
       "      <td>5</td>\n",
       "      <td>2</td>\n",
       "    </tr>\n",
       "    <tr>\n",
       "      <th>10</th>\n",
       "      <td>6.7</td>\n",
       "      <td>0.58</td>\n",
       "      <td>0.08</td>\n",
       "      <td>1.8</td>\n",
       "      <td>0.097</td>\n",
       "      <td>15.0</td>\n",
       "      <td>65.0</td>\n",
       "      <td>0.9959</td>\n",
       "      <td>3.28</td>\n",
       "      <td>0.54</td>\n",
       "      <td>9.2</td>\n",
       "      <td>5</td>\n",
       "      <td>2</td>\n",
       "    </tr>\n",
       "  </tbody>\n",
       "</table>\n",
       "</div>"
      ],
      "text/plain": [
       "    fixed acidity  volatile acidity  citric acid  residual sugar  chlorides  \\\n",
       "0             7.4              0.70         0.00             1.9      0.076   \n",
       "1             7.8              0.88         0.00             2.6      0.098   \n",
       "2             7.8              0.76         0.04             2.3      0.092   \n",
       "3            11.2              0.28         0.56             1.9      0.075   \n",
       "5             7.4              0.66         0.00             1.8      0.075   \n",
       "6             7.9              0.60         0.06             1.6      0.069   \n",
       "7             7.3              0.65         0.00             1.2      0.065   \n",
       "8             7.8              0.58         0.02             2.0      0.073   \n",
       "9             7.5              0.50         0.36             6.1      0.071   \n",
       "10            6.7              0.58         0.08             1.8      0.097   \n",
       "\n",
       "    free sulfur dioxide  total sulfur dioxide  density    pH  sulphates  \\\n",
       "0                  11.0                  34.0   0.9978  3.51       0.56   \n",
       "1                  25.0                  67.0   0.9968  3.20       0.68   \n",
       "2                  15.0                  54.0   0.9970  3.26       0.65   \n",
       "3                  17.0                  60.0   0.9980  3.16       0.58   \n",
       "5                  13.0                  40.0   0.9978  3.51       0.56   \n",
       "6                  15.0                  59.0   0.9964  3.30       0.46   \n",
       "7                  15.0                  21.0   0.9946  3.39       0.47   \n",
       "8                   9.0                  18.0   0.9968  3.36       0.57   \n",
       "9                  17.0                 102.0   0.9978  3.35       0.80   \n",
       "10                 15.0                  65.0   0.9959  3.28       0.54   \n",
       "\n",
       "    alcohol  quality  grade  \n",
       "0       9.4        5      2  \n",
       "1       9.8        5      2  \n",
       "2       9.8        5      2  \n",
       "3       9.8        6      2  \n",
       "5       9.4        5      2  \n",
       "6       9.4        5      2  \n",
       "7      10.0        7      1  \n",
       "8       9.5        7      1  \n",
       "9      10.5        5      2  \n",
       "10      9.2        5      2  "
      ]
     },
     "execution_count": 22,
     "metadata": {},
     "output_type": "execute_result"
    }
   ],
   "source": [
    "# Feature engineer: create a \"grade\" column, where 'quality' >= 7\n",
    "# is 1, means 'high grade', the rest is 2, referring to low grade:\n",
    "df['grade'] = df['quality'].apply(lambda x: 1 if x >= 7 else 2)\n",
    "\n",
    "# Print the updated DataFrame\n",
    "df.head(10)"
   ]
  },
  {
   "cell_type": "markdown",
   "id": "263d032e",
   "metadata": {},
   "source": [
    "I want to do statsitical test to see if there is any statistical difference between grade 1 and 2 in alcohol content<br>\n",
    "To do so, the distributions need to be checked first."
   ]
  },
  {
   "cell_type": "code",
   "execution_count": 23,
   "id": "078b9d9d",
   "metadata": {},
   "outputs": [
    {
     "data": {
      "image/png": "[encoded data removed]",
      "text/plain": [
       "<Figure size 432x288 with 1 Axes>"
      ]
     },
     "metadata": {
      "needs_background": "light"
     },
     "output_type": "display_data"
    }
   ],
   "source": [
    "# Check if the distribution of those 2 are normally distribtuted\n",
    "# Plot the distribution of alcohol content for grade 1 and grade 2\n",
    "sns.kdeplot(data=df[df['grade'] == 1]['alcohol'], label='Grade 1 (high)')\n",
    "sns.kdeplot(data=df[df['grade'] == 2]['alcohol'], label='Grade 2 (low)')\n",
    "\n",
    "# Add labels and title\n",
    "plt.xlabel('Alcohol Content')\n",
    "plt.ylabel('Density')\n",
    "plt.title('Distribution of Alcohol Content for Grade 1 and Grade 2')\n",
    "\n",
    "# Add legend\n",
    "plt.legend()\n",
    "\n",
    "# Show the plot\n",
    "plt.show()"
   ]
  },
  {
   "cell_type": "code",
   "execution_count": 24,
   "id": "f87acd4d",
   "metadata": {},
   "outputs": [
    {
     "name": "stdout",
     "output_type": "stream",
     "text": [
      "Sample size of Grade 1: 1175\n",
      "Sample size of Grade 2: 184\n"
     ]
    }
   ],
   "source": [
    "# The sample sizes need to be checked, too\n",
    "# Count the occurrences of each grade\n",
    "grade_counts = df['grade'].value_counts()\n",
    "\n",
    "# Print the sample sizes\n",
    "print(\"Sample size of Grade 1:\", grade_counts[2])  # Grade 1 corresponds to 2\n",
    "print(\"Sample size of Grade 2:\", grade_counts[1])  # Grade 2 corresponds to 1"
   ]
  },
  {
   "cell_type": "markdown",
   "id": "58a0bf44",
   "metadata": {},
   "source": [
    "Those two distribution can be considered roughly normally distributed, pluse bit enough sample sizes. We can use t-test to see if they have any statistical difference in their alcohol content. It is a comparision of two populations, one is wine with grade 1, and the other is with grade 2."
   ]
  },
  {
   "cell_type": "code",
   "execution_count": 25,
   "id": "18fb8a35",
   "metadata": {},
   "outputs": [
    {
     "name": "stdout",
     "output_type": "stream",
     "text": [
      "Test result:\n",
      "Test Statistic: 16.555555042278684\n",
      "p-value: 3.2441514679446344e-56\n",
      "There is a statistically significant difference at α being 5%.\n"
     ]
    }
   ],
   "source": [
    "# Perform the independent two-sample t-test\n",
    "grade_1_alcohol = df[df['grade'] == 1]['alcohol']\n",
    "grade_2_alcohol = df[df['grade'] == 2]['alcohol']\n",
    "\n",
    "# Perform the test (t-test) and get the p-value\n",
    "t_statistic, p_value = stats.ttest_ind(grade_1_alcohol, grade_2_alcohol)\n",
    "\n",
    "# Print the results\n",
    "print(\"Test result:\")\n",
    "print(\"Test Statistic:\", t_statistic)\n",
    "print(\"p-value:\", p_value)\n",
    "\n",
    "# Determine if the difference is statistically significant\n",
    "alpha = 0.05\n",
    "if p_value < alpha:\n",
    "    print(\"There is a statistically significant difference at α being 5%.\")\n",
    "else:\n",
    "    print(\"There is no statistically significant difference at α being 5%\")"
   ]
  },
  {
   "cell_type": "markdown",
   "id": "68668ec1",
   "metadata": {},
   "source": [
    "## <a id='toc1_6_'></a>[Training and Fitting Machine Learning Model](#toc0_)"
   ]
  },
  {
   "cell_type": "markdown",
   "id": "4367c060",
   "metadata": {},
   "source": [
    "### <a id='toc1_6_1_'></a>['Alcohol'](#toc0_)"
   ]
  },
  {
   "cell_type": "code",
   "execution_count": 26,
   "id": "089d38c2",
   "metadata": {
    "scrolled": true
   },
   "outputs": [
    {
     "name": "stdout",
     "output_type": "stream",
     "text": [
      "Mean Squared Error: 0.34970404844766895\n",
      "Root Mean Squared Error: 0.5913578006990936\n",
      "Mean Absolute Error: 0.4615999975224106\n",
      "R-squared: 0.6791784648730568\n"
     ]
    }
   ],
   "source": [
    "# Features (X) without the 'grade' column and target variable (y)\n",
    "X = df.drop(columns=['alcohol', 'grade'])  # Exclude 'alcohol', 'grade'\n",
    "y = df['alcohol']\n",
    "\n",
    "# Split data into training and testing sets\n",
    "X_train, X_test, y_train, y_test = train_test_split(\n",
    "    X, y, test_size=0.2, random_state=42\n",
    ")\n",
    "\n",
    "# Instantiate and train the model (linear regression in this example)\n",
    "model = LinearRegression()\n",
    "model.fit(X_train, y_train)\n",
    "\n",
    "# Make predictions on the test set\n",
    "y_pred = model.predict(X_test)\n",
    "\n",
    "# Calculate and print evaluation metrics\n",
    "mse = mean_squared_error(y_test, y_pred)\n",
    "rmse = mean_squared_error(y_test, y_pred, squared=False)\n",
    "mae = mean_absolute_error(y_test, y_pred)\n",
    "r2 = r2_score(y_test, y_pred)\n",
    "\n",
    "print(\"Mean Squared Error:\", mse)\n",
    "print(\"Root Mean Squared Error:\", rmse)\n",
    "print(\"Mean Absolute Error:\", mae)\n",
    "print(\"R-squared:\", r2)"
   ]
  },
  {
   "cell_type": "markdown",
   "id": "8632af2d",
   "metadata": {},
   "source": [
    "Mean Squared Error (MSE): The MSE value of approximately 0.35 indicates that, on average, the squared difference between the model's predicted alcohol content values and the actual values is around 0.35. Lower MSE values are better, and this value suggests that your model's predictions are generally close to the actual values.\n",
    "\n",
    "Root Mean Squared Error (RMSE): The RMSE value of approximately 0.59 is the square root of the MSE. It's in the same units as the target variable (alcohol content). The RMSE represents the average absolute difference between the model's predicted values and the actual values. Lower RMSE values indicate better model performance.\n",
    "\n",
    "Mean Absolute Error (MAE): The MAE value of approximately 0.46 indicates that, on average, the absolute difference between the model's predicted alcohol content values and the actual values is around 0.46. Like the RMSE, lower MAE values are better.\n",
    "\n",
    "R-squared (R2): The R-squared value of approximately 0.68 suggests that about 68% of the variability in alcohol content is explained by the features used in the model. In other words, the model is capturing a significant portion of the underlying patterns in the data. However, there's still room for improvement, as R-squared values closer to 1 indicate better model fit. Yet, it needs to find out the balance to avoid overfitting.\n",
    "\n",
    "Personally, without much of domain knowledge, the mordel seems to perform resonably well."
   ]
  },
  {
   "cell_type": "code",
   "execution_count": 27,
   "id": "198e6a48",
   "metadata": {},
   "outputs": [
    {
     "name": "stdout",
     "output_type": "stream",
     "text": [
      "fixed acidity: 0.5158\n",
      "volatile acidity: 0.5275\n",
      "citric acid: 0.8076\n",
      "residual sugar: 0.2624\n",
      "chlorides: -0.6024\n",
      "free sulfur dioxide: -0.0023\n",
      "total sulfur dioxide: -0.0019\n",
      "density: -584.8609\n",
      "pH: 3.7643\n",
      "sulphates: 0.9255\n",
      "quality: 0.2456\n"
     ]
    }
   ],
   "source": [
    "# Access coefficients of each feature\n",
    "coefficients = model.coef_\n",
    "\n",
    "# Map coefficients to feature names\n",
    "feature_coefficients = dict(zip(X.columns, coefficients))\n",
    "\n",
    "# Print coefficients of each feature\n",
    "for feature, coefficient in feature_coefficients.items():\n",
    "    print(f\"{feature}: {coefficient:.4f}\")"
   ]
  },
  {
   "cell_type": "markdown",
   "id": "0b550e3e",
   "metadata": {},
   "source": [
    "The density variable has the highest influence to predict alcohol content, but in the negative way. However, without normalisation, it might have caused by different scale, rather than the magnitude of the coefficients"
   ]
  },
  {
   "cell_type": "code",
   "execution_count": 28,
   "id": "1efcfe86",
   "metadata": {},
   "outputs": [
    {
     "data": {
      "image/png": "[encoded data removed]",
      "text/plain": [
       "<Figure size 720x432 with 1 Axes>"
      ]
     },
     "metadata": {
      "needs_background": "light"
     },
     "output_type": "display_data"
    },
    {
     "data": {
      "image/png": "[encoded data removed]",
      "text/plain": [
       "<Figure size 720x432 with 1 Axes>"
      ]
     },
     "metadata": {
      "needs_background": "light"
     },
     "output_type": "display_data"
    }
   ],
   "source": [
    "# Visualise the fitting of the model\n",
    "# Scatter plot of actual vs. predicted alcohol content\n",
    "plt.figure(figsize=(10, 6))\n",
    "plt.scatter(y_test, y_pred, alpha=0.5)\n",
    "plt.plot([min(y_test), max(y_test)], [min(y_pred), max(y_pred)],\n",
    "         color='red', linestyle='--', linewidth=2)\n",
    "plt.xlabel(\"Actual Alcohol Content\")\n",
    "plt.ylabel(\"Predicted Alcohol Content\")\n",
    "plt.title(\"Actual vs. Predicted Alcohol Content\")\n",
    "plt.show()\n",
    "\n",
    "# Residual plot\n",
    "residuals = y_test - y_pred\n",
    "plt.figure(figsize=(10, 6))\n",
    "plt.scatter(y_pred, residuals, alpha=0.5)\n",
    "plt.axhline(y=0, color='r', linestyle='--')\n",
    "plt.xlabel(\"Predicted Alcohol Content\")\n",
    "plt.ylabel(\"Residuals\")\n",
    "plt.title(\"Residual Plot\")\n",
    "plt.show()"
   ]
  },
  {
   "cell_type": "markdown",
   "id": "93d3d4c8",
   "metadata": {},
   "source": [
    "### <a id='toc1_6_2_'></a>['grade'](#toc0_)"
   ]
  },
  {
   "cell_type": "code",
   "execution_count": 45,
   "id": "1f266d99",
   "metadata": {},
   "outputs": [
    {
     "data": {
      "image/png": "[encoded data removed]",
      "text/plain": [
       "<Figure size 576x432 with 1 Axes>"
      ]
     },
     "metadata": {
      "needs_background": "light"
     },
     "output_type": "display_data"
    }
   ],
   "source": [
    "value_counts = df['grade'].value_counts()\n",
    "ax = value_counts.plot(kind='bar', stacked=True, figsize=(8, 6))\n",
    "\n",
    "# Add labels:\n",
    "plt.xlabel('Grade')\n",
    "plt.ylabel('Count')\n",
    "plt.title('Bar chart between Grade 1 and Grade 2')\n",
    "plt.xticks(rotation=0)\n",
    "plt.grid(axis='y', linestyle='--', alpha=0.7)\n",
    "plt.show()"
   ]
  },
  {
   "cell_type": "markdown",
   "id": "7560c4f0",
   "metadata": {},
   "source": [
    "The sample of Grade 1 Wine is about 1/6 of the counterpart. It would highly likely lead to bias when training models. However in this stage of studying, we won't do anything about it."
   ]
  },
  {
   "cell_type": "code",
   "execution_count": 30,
   "id": "277f91ba",
   "metadata": {},
   "outputs": [
    {
     "name": "stdout",
     "output_type": "stream",
     "text": [
      "Accuracy: 0.8897058823529411\n",
      "\n",
      "Classification Report:\n",
      "               precision    recall  f1-score   support\n",
      "\n",
      "           1       0.70      0.21      0.32        34\n",
      "           2       0.90      0.99      0.94       238\n",
      "\n",
      "    accuracy                           0.89       272\n",
      "   macro avg       0.80      0.60      0.63       272\n",
      "weighted avg       0.87      0.89      0.86       272\n",
      "\n",
      "\n",
      "Confusion Matrix:\n",
      " [[  7  27]\n",
      " [  3 235]]\n"
     ]
    }
   ],
   "source": [
    "# Features (X) and target variable (y)\n",
    "X = df.drop(columns=['quality', 'grade'])\n",
    "y = df['grade']\n",
    "\n",
    "# Split data into training and testing sets\n",
    "X_train, X_test, y_train, y_test = train_test_split(\n",
    "    X, y, test_size=0.2, random_state=42\n",
    ")\n",
    "\n",
    "# Instantiate and train the logistic regression model with a different solver\n",
    "model = LogisticRegression(solver='liblinear', max_iter=1000)\n",
    "model.fit(X_train, y_train)\n",
    "\n",
    "# Make predictions on the test set\n",
    "y_pred = model.predict(X_test)\n",
    "\n",
    "# Evaluate the model\n",
    "accuracy = accuracy_score(y_test, y_pred)\n",
    "classification_rep = classification_report(y_test, y_pred)\n",
    "conf_matrix = confusion_matrix(y_test, y_pred)\n",
    "\n",
    "# Print evaluation results\n",
    "print(\"Accuracy:\", accuracy)\n",
    "print(\"\\nClassification Report:\\n\", classification_rep)\n",
    "print(\"\\nConfusion Matrix:\\n\", conf_matrix)"
   ]
  },
  {
   "cell_type": "markdown",
   "id": "4df5a6d7",
   "metadata": {},
   "source": [
    "Accuracy: The accuracy of approximately 0.89 (or 89%) indicates that the model correctly predicted the grade for 89% of the samples in the test set.\n",
    "\n",
    "Classification Report: The classification report provides additional insights into the model's performance for each class (1 and 2), including precision, recall, and F1-score. Here's a breakdown:\n",
    "\n",
    "For class 1 (low grade), the model's precision is 0.70, recall is 0.21, and F1-score is 0.32.\n",
    "For class 2 (high grade), the model's precision is 0.90, recall is 0.99, and F1-score is 0.94.<br>\n",
    "\n",
    "Confusion Matrix: The confusion matrix shows how many samples were correctly and incorrectly classified for each class. For example, the model correctly predicted 7 samples as class 1 and 235 samples as class 2. However, it incorrectly predicted 27 samples as class 1 and 3 samples as class 2.\n",
    "\n",
    "Macro and Weighted Averages: The macro average of precision, recall, and F1-score is calculated by averaging the values for each class equally. The weighted average takes into account class imbalance by weighting each class's average by its support (number of samples).\n",
    "\n",
    "Overall, the model seems to perform well in predicting class 2 (low grade), as indicated by high precision, recall, and F1-score. However, its performance for class 1 (high grade) is lower, suggesting room for improvement, especially in terms of recall. Let's try different algorithm: decision tree."
   ]
  },
  {
   "cell_type": "code",
   "execution_count": 31,
   "id": "16a864b4",
   "metadata": {},
   "outputs": [
    {
     "name": "stdout",
     "output_type": "stream",
     "text": [
      "Accuracy: 0.8823529411764706\n",
      "\n",
      "Classification Report:\n",
      "               precision    recall  f1-score   support\n",
      "\n",
      "           1       0.53      0.56      0.54        34\n",
      "           2       0.94      0.93      0.93       238\n",
      "\n",
      "    accuracy                           0.88       272\n",
      "   macro avg       0.73      0.74      0.74       272\n",
      "weighted avg       0.89      0.88      0.88       272\n",
      "\n",
      "\n",
      "Confusion Matrix:\n",
      " [[ 19  15]\n",
      " [ 17 221]]\n"
     ]
    }
   ],
   "source": [
    "# Split data into training and testing sets\n",
    "X_train, X_test, y_train, y_test = train_test_split(\n",
    "    X, y, test_size=0.2, random_state=42\n",
    ")\n",
    "\n",
    "# Instantiate and train the Decision Tree classifier\n",
    "model = DecisionTreeClassifier(random_state=42)\n",
    "model.fit(X_train, y_train)\n",
    "\n",
    "# Make predictions on the test set\n",
    "y_pred = model.predict(X_test)\n",
    "\n",
    "# Evaluate the model\n",
    "accuracy = accuracy_score(y_test, y_pred)\n",
    "classification_rep = classification_report(y_test, y_pred)\n",
    "conf_matrix = confusion_matrix(y_test, y_pred)\n",
    "\n",
    "# Print evaluation results\n",
    "print(\"Accuracy:\", accuracy)\n",
    "print(\"\\nClassification Report:\\n\", classification_rep)\n",
    "print(\"\\nConfusion Matrix:\\n\", conf_matrix)"
   ]
  },
  {
   "cell_type": "markdown",
   "id": "1d06b86f",
   "metadata": {},
   "source": [
    "A comparison of their performances:\n",
    "\n",
    "Logistic Regression:\n",
    "\n",
    "- Accuracy: 0.8897\n",
    "- F1-score (low grade): 0.32\n",
    "- F1-score (high grade): 0.94 <br>\n",
    "\n",
    "Decision Tree:\n",
    "\n",
    "- Accuracy: 0.8824\n",
    "- F1-score (low grade): 0.54\n",
    "- F1-score (high grade): 0.93 <br>\n",
    "Looking at these results, both models are achieving relatively high accuracy, and the F1-scores for both classes are reasonable. However, both are not good at predicting Grade 1 Wine. Decision tree is better at it, yet, slightly worse in predicting Grade 2 Wine. Personally I would choose Decisition Tree as the difference in Wine Grade 2 prediction is insignificant."
   ]
  },
  {
   "cell_type": "code",
   "execution_count": 32,
   "id": "8d71036c",
   "metadata": {},
   "outputs": [
    {
     "data": {
      "image/png": "[encoded data removed]",
      "text/plain": [
       "<Figure size 864x576 with 1 Axes>"
      ]
     },
     "metadata": {
      "needs_background": "light"
     },
     "output_type": "display_data"
    }
   ],
   "source": [
    "# Instantiate and train the Decision Tree model with a limited depth\n",
    "max_depth = 4  # Choose a suitable depth value\n",
    "decision_tree_model = DecisionTreeClassifier(random_state=42,\n",
    "                                             max_depth=max_depth)\n",
    "decision_tree_model.fit(X_train, y_train)\n",
    "\n",
    "# Visualize the limited depth Decision Tree\n",
    "plt.figure(figsize=(12, 8))\n",
    "plot_tree(decision_tree_model, feature_names=X_train.columns,\n",
    "          class_names=['low', 'high'], filled=True)\n",
    "plt.show()"
   ]
  },
  {
   "cell_type": "markdown",
   "id": "3eb57993",
   "metadata": {},
   "source": [
    "The dataset are big, so even with max depth of 4 levels, the visulisation of the tree is still not that insightful."
   ]
  },
  {
   "cell_type": "markdown",
   "id": "2ff34be3",
   "metadata": {},
   "source": [
    "## <a id='toc1_7_'></a>[Google Looker 3 graphs:](#toc0_)"
   ]
  },
  {
   "cell_type": "markdown",
   "id": "d5e8145c",
   "metadata": {},
   "source": [
    "[3 charts](https://lookerstudio.google.com/reporting/ee7f6b95-1f55-4af8-a35c-09070eb999d3)"
   ]
  },
  {
   "cell_type": "markdown",
   "id": "b5f54d78",
   "metadata": {},
   "source": [
    "## <a id='toc1_8_'></a>[Conclusion and Limitation](#toc0_)"
   ]
  },
  {
   "cell_type": "markdown",
   "id": "626d1114",
   "metadata": {},
   "source": [
    "- Most of features with continuous values have their distribution look roughly normal distribution, maybe except 'citri acid' and 'free sulfur dioxide'.<br>\n",
    "Also, most of them look right-skewed, too, except 'density' and 'pH'\n",
    "- There are some high correlation between features, which migh cause multicollinearity\n",
    "- Linear Machine Learning model for 'Alcohol' performs decently well\n",
    "- For 'grade' feature, which is a transformation of 'quality', Decision tree and Logistics Regression both have high accuracy, yet not good at predicting Grade 1 Wine. The former is slightly better than the latter\n",
    "- Fulfill 8 requirements from Turing College mentioned in Introduction part.\n",
    "- Limitation: the machine learning part is quite brief due to not yet in the part of studying materials about tunning or such. We also ignored the bias coursed by heavily imbalance of proportion between Grade 1's and Grade 2' samples."
   ]
  }
 ],
 "metadata": {
  "kernelspec": {
   "display_name": "M2S3",
   "language": "python",
   "name": "m2s3"
  },
  "language_info": {
   "codemirror_mode": {
    "name": "ipython",
    "version": 3
   },
   "file_extension": ".py",
   "mimetype": "text/x-python",
   "name": "python",
   "nbconvert_exporter": "python",
   "pygments_lexer": "ipython3",
   "version": "3.10.2"
  }
 },
 "nbformat": 4,
 "nbformat_minor": 5
}
